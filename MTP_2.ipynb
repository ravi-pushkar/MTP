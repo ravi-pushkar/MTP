{
  "nbformat": 4,
  "nbformat_minor": 0,
  "metadata": {
    "colab": {
      "provenance": []
    },
    "kernelspec": {
      "name": "python3",
      "display_name": "Python 3"
    },
    "language_info": {
      "name": "python"
    }
  },
  "cells": [
    {
      "cell_type": "markdown",
      "source": [
        "# Libraries"
      ],
      "metadata": {
        "id": "MQ-_o3VYc5Jw"
      }
    },
    {
      "cell_type": "code",
      "source": [
        "import numpy as np\n",
        "from matplotlib import pyplot as plt\n",
        "import math\n",
        "from mpl_toolkits.mplot3d import Axes3D\n",
        "from mpl_toolkits import mplot3d\n",
        "import matplotlib.pyplot as plt\n",
        "plt.style.use('seaborn-poster')"
      ],
      "metadata": {
        "id": "1HUklAZtc8ki",
        "colab": {
          "base_uri": "https://localhost:8080/"
        },
        "outputId": "5de1601b-9ebd-481f-ded5-1e9b81d44c1b"
      },
      "execution_count": null,
      "outputs": [
        {
          "output_type": "stream",
          "name": "stderr",
          "text": [
            "<ipython-input-1-7671890414ce>:7: MatplotlibDeprecationWarning: The seaborn styles shipped by Matplotlib are deprecated since 3.6, as they no longer correspond to the styles shipped by seaborn. However, they will remain available as 'seaborn-v0_8-<style>'. Alternatively, directly use the seaborn API instead.\n",
            "  plt.style.use('seaborn-poster')\n"
          ]
        }
      ]
    },
    {
      "cell_type": "markdown",
      "source": [
        "# 1-Dimension\n",
        "---"
      ],
      "metadata": {
        "id": "8-j7Ne-ync7G"
      }
    },
    {
      "cell_type": "markdown",
      "source": [
        "## Cell"
      ],
      "metadata": {
        "id": "WNdNqmyacUql"
      }
    },
    {
      "cell_type": "markdown",
      "source": [
        "## Initial condition contain , distribution of $\\rho$, $\\rho v$ and $\\rho S$\n",
        "Initial state variable $(\\rho, \\rho v, \\rho S)$. Now based on this calculate your p vector"
      ],
      "metadata": {
        "id": "hqiQ4H4vvpA9"
      }
    },
    {
      "cell_type": "code",
      "source": [
        "class Cell:\n",
        "    def __init__(self):\n",
        "        self.u = np.array([[0.0, 0.0, 0.0]] * (Config.NUM_RK_STEPS + 1)) # update in terms of rho, rho u and E\n",
        "              # MAke changes in flux accordingly\n",
        "\n",
        "        # self.q = np.array([[0.0, 0.0, 0.0]] * (Config.NUM_RK_STEPS + 1)) # rho, v & p    #rho, rho v, rho S.\n",
        "        self.uwest = np.array([0.0, 0.0, 0.0])\n",
        "        self.uEast = np.array([0.0, 0.0, 0.0])\n",
        "        self.cx = 0.0\n",
        "        self.dx = 0.0\n",
        "        self.totalFlux = np.array([0.0, 0.0, 0.0])"
      ],
      "metadata": {
        "id": "td-gfScF3yjN"
      },
      "execution_count": null,
      "outputs": []
    },
    {
      "cell_type": "markdown",
      "source": [
        "## Ghost Cells"
      ],
      "metadata": {
        "id": "wbRQrZy1crao"
      }
    },
    {
      "cell_type": "code",
      "source": [
        "class GhostCellUpdater:\n",
        "    @staticmethod\n",
        "    def updateGhostCells(cells, rkStep):\n",
        "        for ghostCell in range(Config.NUM_GHOST_CELLS):\n",
        "          cells[ghostCell].u[rkStep] = cells[Config.NUM_X_CELLS + ghostCell].u[rkStep]\n",
        "          cells[Config.NUM_X_CELLS + Config.NUM_GHOST_CELLS + ghostCell].u[rkStep] = cells[Config.NUM_GHOST_CELLS + ghostCell].u[rkStep]"
      ],
      "metadata": {
        "id": "RRPP5yAlcuiD"
      },
      "execution_count": null,
      "outputs": []
    },
    {
      "cell_type": "markdown",
      "source": [
        "## Reconstruction Types"
      ],
      "metadata": {
        "id": "-PgHoQU_TaoC"
      }
    },
    {
      "cell_type": "code",
      "source": [
        "from enum import Enum\n",
        "\n",
        "class ReconstructionTypes(Enum):\n",
        "    FIRST_ORDER = 1\n",
        "    LAX_WENDROFF = 2\n",
        "    BEAM_WARMING = 3\n",
        "    FROMM = 4\n",
        "    LIMITED_LM = 5"
      ],
      "metadata": {
        "id": "uKfHS-t-X8Qe"
      },
      "execution_count": null,
      "outputs": []
    },
    {
      "cell_type": "markdown",
      "source": [
        "## Config"
      ],
      "metadata": {
        "id": "9yGxBwiGtLxn"
      }
    },
    {
      "cell_type": "code",
      "source": [
        "class Config:\n",
        "    NUM_X_CELLS = 100\n",
        "    # NUM_X_CELLS = 100\n",
        "    NUM_GHOST_CELLS = 3\n",
        "    NUM_RK_STEPS = 1       # Can be 1,2,3\n",
        "    STOPPING_TIME = 0.01\n",
        "    MAX_TIME_ITER = 1000\n",
        "    MIN_X = 0.0            # -1.0\n",
        "    MAX_X = 1.0\n",
        "    ADVECTION_VEL = 1.0\n",
        "    COURANT_NUM = 0.1\n",
        "    RECONST_TYPE = ReconstructionTypes.LIMITED_LM\n",
        "    gamma = 1.4"
      ],
      "metadata": {
        "id": "atEL3j5knuma"
      },
      "execution_count": null,
      "outputs": []
    },
    {
      "cell_type": "markdown",
      "source": [
        "## Reconstruct Variables"
      ],
      "metadata": {
        "id": "hnxKoAfmeRG0"
      }
    },
    {
      "cell_type": "code",
      "source": [
        "class VariableReconstructor:\n",
        "    @staticmethod\n",
        "    def reconstructVariables(cells, rkStep):\n",
        "        reconst_type = Config.RECONST_TYPE\n",
        "\n",
        "        if reconst_type == ReconstructionTypes.FIRST_ORDER:\n",
        "            for i in range(Config.NUM_GHOST_CELLS - 1, Config.NUM_X_CELLS + Config.NUM_GHOST_CELLS + 1):\n",
        "                cells[i].uWest = cells[i].u[rkStep]\n",
        "                cells[i].uEast = cells[i].u[rkStep]\n",
        "\n",
        "        elif reconst_type == ReconstructionTypes.BEAM_WARMING:\n",
        "            for i in range(Config.NUM_GHOST_CELLS - 1, Config.NUM_X_CELLS + Config.NUM_GHOST_CELLS + 1):\n",
        "                du_dx = (cells[i].u[rkStep] - cells[i - 1].u[rkStep]) / cells[i].dx\n",
        "                cells[i].uWest = cells[i].u[rkStep] - du_dx * cells[i].dx / 2.0\n",
        "                cells[i].uEast = cells[i].u[rkStep] + du_dx * cells[i].dx / 2.0\n",
        "\n",
        "        elif reconst_type == ReconstructionTypes.LAX_WENDROFF:\n",
        "            for i in range(Config.NUM_GHOST_CELLS - 1, Config.NUM_X_CELLS + Config.NUM_GHOST_CELLS + 1):\n",
        "                du_dx = (cells[i+1].u[rkStep] - cells[i].u[rkStep]) / cells[i].dx\n",
        "                cells[i].uWest = cells[i].u[rkStep] - du_dx * cells[i].dx / 2.0\n",
        "                cells[i].uEast = cells[i].u[rkStep] + du_dx * cells[i].dx / 2.0\n",
        "\n",
        "        elif reconst_type == ReconstructionTypes.FROMM:\n",
        "            for i in range(Config.NUM_GHOST_CELLS - 1, Config.NUM_X_CELLS + Config.NUM_GHOST_CELLS + 1):\n",
        "                du_dx = (cells[i+1].u[rkStep] - cells[i-1].u[rkStep]) / 2.0 / cells[i].dx\n",
        "                cells[i].uWest = cells[i].u[rkStep] - du_dx * cells[i].dx / 2.0\n",
        "                cells[i].uEast = cells[i].u[rkStep] + du_dx * cells[i].dx / 2.0\n",
        "\n",
        "        elif reconst_type == ReconstructionTypes.LIMITED_LM:\n",
        "            for i in range(Config.NUM_GHOST_CELLS - 1, Config.NUM_X_CELLS + Config.NUM_GHOST_CELLS + 1):\n",
        "                r = (cells[i].u[rkStep] - cells[i-1].u[rkStep]) / (cells[i+1].u[rkStep] - cells[i].u[rkStep] + 0.000001)\n",
        "                r = max(0, r.max())\n",
        "\n",
        "                phi = (r*r + r) / (r*r + 1) # Alba Limiter\n",
        "                du_dx = (cells[i+1].u[rkStep] - cells[i].u[rkStep]) / cells[i].dx\n",
        "                cells[i].uWest = cells[i].u[rkStep] - phi * du_dx * cells[i].dx / 2.0\n",
        "                cells[i].uEast = cells[i].u[rkStep] + phi * du_dx * cells[i].dx / 2.0"
      ],
      "metadata": {
        "id": "ODaSiA1AThm4"
      },
      "execution_count": null,
      "outputs": []
    },
    {
      "cell_type": "markdown",
      "source": [
        "## Variable Copier"
      ],
      "metadata": {
        "id": "FgGse0vryc9O"
      }
    },
    {
      "cell_type": "code",
      "source": [
        "class VariableCopier:\n",
        "    def CopyToZerothRKStep(cells):\n",
        "        for i in range(Config.NUM_GHOST_CELLS,Config.NUM_X_CELLS+Config.NUM_GHOST_CELLS,1):\n",
        "            cells[i].u[0] = cells[i].u[Config.NUM_RK_STEPS]"
      ],
      "metadata": {
        "id": "ZTdoOUyLyfoY"
      },
      "execution_count": null,
      "outputs": []
    },
    {
      "cell_type": "markdown",
      "source": [
        "## Time Step Calculator"
      ],
      "metadata": {
        "id": "kSZisaElcZtk"
      }
    },
    {
      "cell_type": "code",
      "source": [
        "e_ref = 1.0\n",
        "Cv = 1/(Config.gamma - 1)\n",
        "\n",
        "def calculatePressure(cell):\n",
        "    rho = cell.u[0][0]\n",
        "    u = cell.u[0][1] / rho\n",
        "    S = cell.u[0][2] / rho\n",
        "    # e = e_ref * np.exp(S / Cv)\n",
        "    # return (Config.gamma-1) * rho * (e- 0.5 * u**2)\n",
        "    return (rho ** Config.gamma) * np.exp(S/Cv)"
      ],
      "metadata": {
        "id": "dz31-dnQarrm"
      },
      "execution_count": null,
      "outputs": []
    },
    {
      "cell_type": "code",
      "source": [
        "# def calculatePressure(cell):\n",
        "#   return np.exp(cell.u[0][2]/cell.u[0][0]) * (cell.u[0][0]**Config.gamma)\n",
        "class TimeStepCalculator:\n",
        "    @staticmethod\n",
        "    def getTimeStep(cells):\n",
        "        # Assuming dx is constant for all cells\n",
        "        for cell in cells:\n",
        "            cell.u = np.nan_to_num(cell.u, copy=True, nan=1e-5, posinf=None, neginf=None)\n",
        "        press = [calculatePressure(cell) for cell in cells]\n",
        "        press = np.array([v if v <1e10 else 0 for v in press])\n",
        "        rho = np.array([cell.u[0][0] for cell in cells])\n",
        "        # assert(rho.min() > 0)\n",
        "        # print(Config.gamma * press/(rho + 1e-5))\n",
        "        soundSpeed = np.sqrt(Config.gamma * press/(rho + 1e-5))\n",
        "        soundSpeed = np.nan_to_num(soundSpeed, copy = True, nan = 10)\n",
        "        v = [0 if cell.u[0][0] > 1e3 else cell.u[0][1]/cell.u[0][0] for cell in cells]\n",
        "        v = np.array([v if np.abs(v) < 1e-5 else 0 for v in v])\n",
        "        return [Config.COURANT_NUM * cells[0].dx * ((np.abs(v) + soundSpeed).max()), (np.abs(v) + soundSpeed).max()]"
      ],
      "metadata": {
        "id": "aXPWZUgEbVem"
      },
      "execution_count": null,
      "outputs": []
    },
    {
      "cell_type": "markdown",
      "source": [
        "## Time Integration"
      ],
      "metadata": {
        "id": "owJ1Ld5wwk9_"
      }
    },
    {
      "cell_type": "code",
      "source": [
        "class TimeIntegration:\n",
        "    @staticmethod\n",
        "    def updateCellAverage(cells, rkStep, dt):\n",
        "        if(Config.NUM_RK_STEPS == 1):\n",
        "            for i in range(Config.NUM_GHOST_CELLS, Config.NUM_X_CELLS+Config.NUM_GHOST_CELLS,1):\n",
        "                cells[i].u[rkStep+1] = cells[i].u[rkStep] + dt / cells[i].dx * cells[i].totalFlux\n",
        "\n",
        "        elif(Config.NUM_RK_STEPS == 2):\n",
        "            for i in range(Config.NUM_GHOST_CELLS, Config.NUM_X_CELLS+Config.NUM_GHOST_CELLS,1):\n",
        "                if(rkStep == 0):\n",
        "                    cells[i].u[rkStep+1] = cells[i].u[rkStep] + dt / cells[i].dx * cells[i].totalFlux\n",
        "                elif(rkStep == 1):\n",
        "                    cells[i].u[rkStep+1] = 0.5 * {cells[i].u[rkStep-1] + cells[i].u[rkStep] + dt/cells[i].dx * cells[i].totalFlux}\n",
        "\n",
        "        elif(Config.NUM_RK_STEPS == 3):\n",
        "            for i in range(Config.NUM_GHOST_CELLS, Config.NUM_X_CELLS+Config.NUM_GHOST_CELLS,1):\n",
        "                if(rkStep == 0):\n",
        "                    cells[i].u[rkStep+1] = cells[i].u[rkStep] + dt / cells[i].dx * cells[i].totalFlux\n",
        "                elif(rkStep == 1):\n",
        "                    cells[i].u[rkStep+1] = 0.75 * cells[i].u[rkStep-1] + 0.25 * cells[i].u[rkStep] + 0.25 * dt/cells[i].dx * cells[i].totalFlux\n",
        "                elif(rkStep == 2):\n",
        "                    cells[i].u[rkStep+1] = 0.33 * cells[i].u[rkStep-2] + 0.67 * cells[i].u[rkStep] + 0.67 * dt/cells[i].dx * cells[i].totalFlux"
      ],
      "metadata": {
        "id": "rt2Wv8bdwo6k"
      },
      "execution_count": null,
      "outputs": []
    },
    {
      "cell_type": "markdown",
      "source": [
        "## Flux\n"
      ],
      "metadata": {
        "id": "V0xck_0WWzhC"
      }
    },
    {
      "cell_type": "code",
      "source": [
        "def calculateEnergy(cells, index, rkStep):\n",
        "    m1 = cells[index].u[rkStep][0]\n",
        "    m2 = cells[index].u[rkStep][1]\n",
        "    m3 = cells[index].u[rkStep][2]\n",
        "\n",
        "    energy = 0\n",
        "    if(not(math.isnan(m2*m2/m1))):\n",
        "        energy += m2*m2/m1\n",
        "\n",
        "    if(not(math.isnan(np.exp(m3/m1))) and\n",
        "       not(math.isnan(m1**Config.gamma-1)) and\n",
        "       not(math.isnan(np.exp(m3/m1) * (m1**Config.gamma-1)))):\n",
        "        energy += math.isnan(np.exp(m3/m1) * (m1**Config.gamma-1))\n",
        "\n",
        "    return energy"
      ],
      "metadata": {
        "id": "b-Mr7E7INEpO"
      },
      "execution_count": null,
      "outputs": []
    },
    {
      "cell_type": "code",
      "source": [
        "class Flux:\n",
        "    @staticmethod\n",
        "    def calculateFlux(cells, rkStep):\n",
        "        for i in range(len(cells)):\n",
        "            cells[i].totalFlux = [0.0, 0.0, 0.0]\n",
        "\n",
        "        for interfaceIndex in range(Config.NUM_GHOST_CELLS, Config.NUM_GHOST_CELLS+Config.NUM_X_CELLS+1, 1):\n",
        "\n",
        "            # ================================================================== #  Using the given condition taking q = (rho, rho v, rho S)\n",
        "            #Left Values\n",
        "            left_m1 = cells[interfaceIndex-1].uEast[0]  # cells[interfaceIndex-1].u[rkStep][0]\n",
        "            left_m2 = cells[interfaceIndex-1].uEast[1]  # cells[interfaceIndex-1].u[rkStep][1]\n",
        "            left_m3 = cells[interfaceIndex-1].uEast[2]  # cells[interfaceIndex-1].u[rkStep][2]\n",
        "\n",
        "            left_c1, left_c2, left_c3 = left_m2, 0.0, 0.0\n",
        "            left_v, left_p = 0.0, calculatePressure(cells[interfaceIndex-1]) # 0.0\n",
        "\n",
        "            if(not(math.isnan(left_m2/left_m1))):\n",
        "                left_v = left_m2/left_m1\n",
        "\n",
        "            left_e1 = 0.5 * left_m1 * (left_v ** 2)\n",
        "            # left_p = (Config.gamma-1)*(cells[interfaceIndex-1].u[rkStep][2] - left_e1)\n",
        "\n",
        "\n",
        "            # # Right Values\n",
        "            right_m1 = cells[interfaceIndex].uWest[0] # cells[interfaceIndex].u[rkStep][0]\n",
        "            right_m2 = cells[interfaceIndex].uWest[1] # cells[interfaceIndex].u[rkStep][1]\n",
        "            right_m3 = cells[interfaceIndex].uWest[2] # cells[interfaceIndex].u[rkStep][2]\n",
        "\n",
        "            right_c1, right_c2, right_c3 = right_m2, 0.0, 0.0\n",
        "            right_v, right_p = 0.0, calculatePressure(cells[interfaceIndex]) #0.0\n",
        "\n",
        "            if(not(math.isnan(right_m2/right_m1))):\n",
        "                right_v = right_m2/right_m1\n",
        "\n",
        "            right_e1 = 0.5 * right_m1 * (right_v ** 2)\n",
        "            # right_p = (Config.gamma-1)*(cells[interfaceIndex].u[rkStep][2] - left_e1)\n",
        "\n",
        "\n",
        "\n",
        "            # Flux according to lax schemᡕぃ/ᡕe\n",
        "            # flux = 0.5 * Config.ADVECTION_VEL * (leftValue + rightValue) #- 0.5 * abs(Config.ADVECTION_VEL) * (rightValue - leftValue)\n",
        "\n",
        "            # ================================================================== #\n",
        "            # Updating the left values\n",
        "            # if(not(math.isnan((left_m2 / left_m1) ** Config.gamma) and not(math.isnan(np.exp(left_m3/left_m1))))):\n",
        "                # left_c2 += ((left_m2 / left_m1) ** Config.gamma + np.exp((left_m3/left_m1)))\n",
        "                # left_p += ((left_m2 / left_m1) ** Config.gamma + np.exp((left_m3/left_m1)))\n",
        "\n",
        "            left_c2 += left_p\n",
        "            if(not(math.isnan((left_m2 ** 2) / left_m1))):\n",
        "                left_c2 += ((left_m2 ** 2) / left_m1)\n",
        "\n",
        "            if(not(math.isnan(left_m2 * left_m3 / left_m1))):\n",
        "                left_c3 += (left_m2 * left_m3 / left_m1)\n",
        "            leftValue = np.array([left_c1, left_c2, left_c3])\n",
        "\n",
        "\n",
        "            # Updating the right values\n",
        "            # if(not(math.isnan((right_m2 / right_m1) ** Config.gamma)) and not(math.isnan(np.exp(right_m3/right_m1)))):\n",
        "                # right_c2 += ((right_m2 / right_m1) ** Config.gamma + np.exp((right_m3/right_m1)))\n",
        "                # right_p += ((right_m2 / right_m1) ** Config.gamma + np.exp((right_m3/right_m1)))\n",
        "\n",
        "            right_c2 += right_p\n",
        "            if(not(math.isnan((right_m2 ** 2) / right_m1))):\n",
        "                right_c2 += ((right_m2 ** 2) / right_m1)\n",
        "\n",
        "            if(not(math.isnan(right_m2 * right_m3 / right_m1))):\n",
        "                right_c3 += (right_m2 * right_m3 / right_m1)\n",
        "            rightValue = np.array([right_c1, right_c2, right_c3])\n",
        "\n",
        "            # Now, update the flux by taking the average of the left and the right values. Schu-Osher Flux Updation\n",
        "\n",
        "            flux = 0.5 * (leftValue + rightValue)\n",
        "\n",
        "            # ================================================================== #\n",
        "            # ALPHA: The Correction Term (Involves p vector and dot product)\n",
        "\n",
        "            alpha = 0.0\n",
        "\n",
        "            # p-vector -> Left Side\n",
        "            left_mul_term, left_p1, left_p2, left_p3 = 0.0, 0.0, 0.0, 0.0\n",
        "            if(not(math.isnan(np.exp(left_m3/left_m1)))\n",
        "            and not(math.isnan(left_m1 ** (Config.gamma-1)))\n",
        "            and not(math.isnan(np.exp(left_m3/left_m1) * (left_m1 ** (Config.gamma-1))))):\n",
        "                left_mul_term += np.exp(left_m3/left_m1) * (left_m1 ** (Config.gamma-1))\n",
        "                left_p3 += left_mul_term\n",
        "\n",
        "            if(left_mul_term != 0):\n",
        "                left_p1 += Config.gamma * left_mul_term\n",
        "                if(not(math.isnan(left_m3/left_m1))):\n",
        "                    left_p1 -= left_mul_term * left_m3/left_m1\n",
        "\n",
        "            if(not(math.isnan((left_m2**2)/left_m1))):\n",
        "                left_p1 -= 0.5 * (left_m2**2)/left_m1\n",
        "\n",
        "            left_vec_p = np.array([left_p1, left_p2, left_p3])\n",
        "\n",
        "            # p-vector -> Left Side\n",
        "            right_mul_term, right_p1, right_p2, right_p3 = 0.0, 0.0, 0.0, 0.0\n",
        "            if(not(math.isnan(np.exp(right_m3/right_m1)))\n",
        "            and not(math.isnan(right_m1 ** (Config.gamma-1)))\n",
        "            and not(math.isnan(np.exp(right_m3/right_m1) * (right_m1 ** (Config.gamma-1))))):\n",
        "                right_mul_term += np.exp(right_m3/right_m1) * (right_m1 ** (Config.gamma-1))\n",
        "                right_p3 += right_mul_term\n",
        "\n",
        "            if(right_mul_term != 0):\n",
        "                right_p1 += Config.gamma * right_mul_term\n",
        "                if(not(math.isnan(right_m3/right_m1))):\n",
        "                    right_p1 -= right_mul_term * right_m3/right_m1\n",
        "\n",
        "            if(not(math.isnan((right_m2**2)/right_m1))):\n",
        "                right_p1 -= 0.5 * (right_m2**2)/right_m1\n",
        "\n",
        "            right_vec_p = np.array([right_p1, right_p2, right_p3])\n",
        "\n",
        "            # Difference vector of the right and the left p-vector values\n",
        "            diff_vec = right_vec_p - left_vec_p\n",
        "\n",
        "            if(np.dot(diff_vec, diff_vec) > 1e-3):\n",
        "                left_F12 = left_v * (left_e1 + (2 * Config.gamma - 1) / (Config.gamma - 1) * left_p)\n",
        "                right_F12 = right_v * (right_e1 + (2 * Config.gamma - 1) / (Config.gamma - 1) * right_p)\n",
        "\n",
        "                alpha = right_F12 - left_F12 + np.dot(flux, diff_vec)- (np.dot(right_vec_p, rightValue) - np.dot(left_vec_p, leftValue))\n",
        "                alpha = alpha / np.dot(diff_vec, diff_vec)\n",
        "                # flux = flux - alpha * diff_vec\n",
        "\n",
        "            # ================================================================== #\n",
        "            # Epsilon: The Dissipation Term\n",
        "\n",
        "            # E values for previous to previous to Left, Left, Right, next to Right\n",
        "            left_prev_E = calculateEnergy(cells, interfaceIndex-2, rkStep)\n",
        "            left_E = calculateEnergy(cells, interfaceIndex-1, rkStep)\n",
        "            right_E = calculateEnergy(cells, interfaceIndex, rkStep)\n",
        "            right_next_E = calculateEnergy(cells, interfaceIndex+1, rkStep)\n",
        "\n",
        "            # Left and Right h values according to SLIC scheme of TORO\n",
        "            left_h, right_h, left_phi, right_phi= 0.0, 0.0, 0.0, 0.0\n",
        "\n",
        "            if(abs(right_E - left_p) > 1e-3):\n",
        "                left_h = (left_E - left_prev_E) / (right_E - left_p)\n",
        "                right_h = (right_next_E - right_E) / (right_E - left_p)\n",
        "                left_phi = max(left_phi, min(1, left_h))\n",
        "                right_phi = max(right_phi, min(1, right_h))\n",
        "\n",
        "            phi = min(left_phi, right_phi)\n",
        "            arr_t = TimeStepCalculator.getTimeStep(cells)\n",
        "            s_max = arr_t[1]\n",
        "\n",
        "            epsilon = 0.5 * (1 - phi) * s_max\n",
        "\n",
        "            # Difference q-vector of the right and the left values.\n",
        "            diff_vec_q = np.array([\n",
        "                right_m1 - left_m1,\n",
        "                right_m2 - left_m2,\n",
        "                right_m3 - left_m3\n",
        "            ])\n",
        "\n",
        "            # Updation of flux after inclusion of the dissipation terms\n",
        "            # flux -= epsilon * diff_vec_q\n",
        "\n",
        "            # ================================================================== #\n",
        "\n",
        "            cells[interfaceIndex-1].totalFlux -= flux\n",
        "            cells[interfaceIndex].totalFlux += flux\n"
      ],
      "metadata": {
        "id": "b9j9VIh_ftKC"
      },
      "execution_count": null,
      "outputs": []
    },
    {
      "cell_type": "markdown",
      "source": [
        "## Solution Initializer and Writer"
      ],
      "metadata": {
        "id": "nebTA0BN1EgS"
      }
    },
    {
      "cell_type": "code",
      "source": [
        "import math\n",
        "class SolutionInitializer:\n",
        "    @staticmethod\n",
        "    def initializeSolution(cells):\n",
        "        rkStep = 0\n",
        "        for cell in cells:\n",
        "            # print(cell.cx)\n",
        "            # assert(False)\n",
        "            # if -0.25 < cell.cx < 0.25:\n",
        "            #     cell.u[rkStep] = 1.0\n",
        "            # else:\n",
        "            #     cell.u[rkStep] = 0.0\n",
        "\n",
        "            # rho = 2+Sin(2pi x), v= 1, p =1\n",
        "\n",
        "            rho = 2 + np.sin(2 * np.pi * cell.cx)\n",
        "            cell.u[rkStep][0] = rho\n",
        "            cell.u[rkStep][1] = rho\n",
        "            cell.u[rkStep][2] = -rho * Config.gamma * np.log(rho) / (Config.gamma-1)\n",
        " #-rho * Config.gamma * np.log(rho)\n"
      ],
      "metadata": {
        "id": "3ztN5z_q6H1R"
      },
      "execution_count": null,
      "outputs": []
    },
    {
      "cell_type": "markdown",
      "source": [
        "## CFD Solver"
      ],
      "metadata": {
        "id": "LkVy3eICd_DS"
      }
    },
    {
      "cell_type": "code",
      "source": [
        "time_dt=[]\n",
        "class CFDSolverStructured:\n",
        "    @staticmethod\n",
        "    def main():\n",
        "        cells = [Cell() for _ in range(Config.NUM_X_CELLS + 2 * Config.NUM_GHOST_CELLS)]\n",
        "        dx = (Config.MAX_X - Config.MIN_X) / Config.NUM_X_CELLS\n",
        "\n",
        "        for i in range(len(cells)):\n",
        "            cells[i] = Cell()\n",
        "            cells[i].dx = dx\n",
        "            cells[i].cx = Config.MIN_X + dx * (i + 0.5 - Config.NUM_GHOST_CELLS)\n",
        "\n",
        "        SolutionInitializer.initializeSolution(cells)\n",
        "        data = [cell.u[0] for cell in cells]\n",
        "        # print(data[0])\n",
        "        # x = np.linspace(0, 1, len(cells))\n",
        "        # plt.plot(x, data)\n",
        "        # plt.show()\n",
        "        time = 0.0\n",
        "        # SolutionFileWriter.writeSolutionFile(cells, time)\n",
        "        lastTimeStep = False\n",
        "        # print(\"EOD\")\n",
        "\n",
        "        for timeiter in range(Config.MAX_TIME_ITER):\n",
        "            arr = TimeStepCalculator.getTimeStep(cells)\n",
        "            dt = arr[0]\n",
        "\n",
        "            # print(dt)\n",
        "            # dt =  1e-2\n",
        "            if(time + dt > Config.STOPPING_TIME):\n",
        "                dt = Config.STOPPING_TIME - time\n",
        "                lastTimeStep = True\n",
        "            time_dt.append(dt)\n",
        "\n",
        "            for rkStep in range(Config.NUM_RK_STEPS):\n",
        "                GhostCellUpdater.updateGhostCells(cells, rkStep)\n",
        "                VariableReconstructor.reconstructVariables(cells, rkStep)\n",
        "                # GhostCellUpdater.updateGhostCells(cells, 0)\n",
        "                Flux.calculateFlux(cells, rkStep)\n",
        "                TimeIntegration.updateCellAverage(cells, rkStep, dt)\n",
        "\n",
        "            VariableCopier.CopyToZerothRKStep(cells)\n",
        "            time += dt\n",
        "            if(lastTimeStep):\n",
        "                break\n",
        "        data = [cell.u[0][0] for cell in cells]\n",
        "        # data = data[Config.NUM_GHOST_CELLS:-Config.NUM_GHOST_CELLS]\n",
        "        x = [cell.cx for cell in cells]\n",
        "        # assert len(data) == Config.NUM_X_CELLS\n",
        "        plt.plot(x, data, color = 'magenta')\n",
        "        plt.scatter(x, data , marker = 's', s = 30, c = 'r')\n",
        "        # plt.show()\n",
        "        data = np.array(data)\n",
        "\n",
        "        y = 2 + np.sin(2 * np.pi * (x - sum(time_dt)))\n",
        "        print(np.linalg.norm(data-y))\n",
        "        plt.plot(x, y)\n",
        "        y = 2 + np.sin(2 * np.pi * (np.array(x)))\n",
        "        # plt.plot(x, y)\n",
        "        plt.legend(['Estimate', 'Exact'])\n",
        "        plt.show()"
      ],
      "metadata": {
        "id": "vb0UOjOK4bOg"
      },
      "execution_count": null,
      "outputs": []
    },
    {
      "cell_type": "code",
      "source": [
        "cf = CFDSolverStructured.main()"
      ],
      "metadata": {
        "id": "QDwGBP9ZLMu-",
        "colab": {
          "base_uri": "https://localhost:8080/",
          "height": 772
        },
        "outputId": "d36a3839-fd1d-45bd-c86f-52186c031493"
      },
      "execution_count": null,
      "outputs": [
        {
          "output_type": "stream",
          "name": "stdout",
          "text": [
            "0.008647707644167368\n"
          ]
        },
        {
          "output_type": "display_data",
          "data": {
            "text/plain": [
              "<Figure size 1280x880 with 1 Axes>"
            ],
            "image/png": "[encoded data removed]"
          },
          "metadata": {}
        }
      ]
    },
    {
      "cell_type": "code",
      "source": [
        "time_dt"
      ],
      "metadata": {
        "id": "F8JbYlS7CvVe",
        "colab": {
          "base_uri": "https://localhost:8080/"
        },
        "outputId": "52662ff0-4349-435d-e4ea-4e79bfa5a50c"
      },
      "execution_count": null,
      "outputs": [
        {
          "output_type": "execute_result",
          "data": {
            "text/plain": [
              "[0.0011829182301264654,\n",
              " 0.0011829728986542075,\n",
              " 0.0011830155878479493,\n",
              " 0.0011830475374429226,\n",
              " 0.0011830695843321466,\n",
              " 0.00118308224679736,\n",
              " 0.00118308577834445,\n",
              " 0.001183080199740757,\n",
              " 0.000535727936713741]"
            ]
          },
          "metadata": {},
          "execution_count": 16
        }
      ]
    },
    {
      "cell_type": "code",
      "source": [
        "sum(time_dt)"
      ],
      "metadata": {
        "id": "khrKtOVz4bcQ",
        "colab": {
          "base_uri": "https://localhost:8080/"
        },
        "outputId": "6010fa81-b6f7-4741-85a3-e95ae74bd9dd"
      },
      "execution_count": null,
      "outputs": [
        {
          "output_type": "execute_result",
          "data": {
            "text/plain": [
              "0.01"
            ]
          },
          "metadata": {},
          "execution_count": 17
        }
      ]
    },
    {
      "cell_type": "markdown",
      "source": [
        "# 2-Dimension\n",
        "---"
      ],
      "metadata": {
        "id": "hW2fCddOoSzi"
      }
    },
    {
      "cell_type": "markdown",
      "source": [
        "## Cell"
      ],
      "metadata": {
        "id": "7nzJEHyDR5qj"
      }
    },
    {
      "cell_type": "code",
      "source": [
        "class Cell2D:\n",
        "    def __init__(self):\n",
        "        self.u =  np.array([[0.0, 0.0, 0.0, 0.0]] * (Config2D.NUM_RK_STEPS + 1))\n",
        "        self.uwest = np.array([0.0, 0.0, 0.0, 0.0])\n",
        "        self.uEast = np.array([0.0, 0.0, 0.0, 0.0])\n",
        "        self.uNorth = np.array([0.0, 0.0, 0.0, 0.0])\n",
        "        self.uSouth = np.array([0.0, 0.0, 0.0, 0.0])\n",
        "        self.cx = 0.0\n",
        "        self.dx = 0.0\n",
        "        self.cy = 0.0\n",
        "        self.dy = 0.0\n",
        "        self.totalFlux = np.array([0.0, 0.0, 0.0, 0.0])"
      ],
      "metadata": {
        "id": "RPZr1QfwR7u2"
      },
      "execution_count": null,
      "outputs": []
    },
    {
      "cell_type": "markdown",
      "source": [
        "## Ghost Cells"
      ],
      "metadata": {
        "id": "LjaaeRf6Wwam"
      }
    },
    {
      "cell_type": "code",
      "source": [
        "class GhostCellUpdater2D:\n",
        "    @staticmethod\n",
        "    def updateGhostCells(cells, rkStep):\n",
        "        for j in range(len(cells[0])):\n",
        "            for ghostCell in range(Config2D.NUM_GHOST_CELLS):\n",
        "                cells[ghostCell][j].u[rkStep] = cells[Config2D.NUM_X_CELLS + ghostCell][j].u[rkStep]\n",
        "                cells[Config2D.NUM_X_CELLS + Config2D.NUM_GHOST_CELLS + ghostCell][j].u[rkStep] = cells[Config2D.NUM_GHOST_CELLS + ghostCell][j].u[rkStep]\n",
        "\n",
        "        for i in range(len(cells)):\n",
        "            for ghostCell in range(Config2D.NUM_GHOST_CELLS):\n",
        "                cells[i][ghostCell].u[rkStep] = cells[i][Config2D.NUM_Y_CELLS + ghostCell].u[rkStep]\n",
        "                cells[i][Config2D.NUM_Y_CELLS + Config2D.NUM_GHOST_CELLS + ghostCell].u[rkStep] = cells[i][Config2D.NUM_GHOST_CELLS + ghostCell].u[rkStep]"
      ],
      "metadata": {
        "id": "TJi4TYHhWybg"
      },
      "execution_count": null,
      "outputs": []
    },
    {
      "cell_type": "markdown",
      "source": [
        "## Config"
      ],
      "metadata": {
        "id": "Ibs-HYaJQJ2o"
      }
    },
    {
      "cell_type": "code",
      "source": [
        "class Config2D:\n",
        "    NUM_X_CELLS = 80\n",
        "    NUM_Y_CELLS = 60\n",
        "    NUM_GHOST_CELLS = 4\n",
        "    NUM_RK_STEPS = 1       # Can be 1,2,3\n",
        "    STOPPING_TIME = 0.01\n",
        "    MAX_TIME_ITER = 100\n",
        "    MIN_X = -0.5          # -1.0\n",
        "    MAX_X = 0.5\n",
        "    MIN_Y = -0.5           #-1.0\n",
        "    MAX_Y = 0.5\n",
        "    ADVECTION_VEL_X = 1.0\n",
        "    ADVECTION_VEL_Y = 1.0\n",
        "    COURANT_NUM = 0.5\n",
        "    RECONST_TYPE = ReconstructionTypes.FIRST_ORDER\n",
        "    gamma = 1.4"
      ],
      "metadata": {
        "id": "mr3xOcQkoWcU"
      },
      "execution_count": null,
      "outputs": []
    },
    {
      "cell_type": "markdown",
      "source": [
        "## Reconstruct Variables"
      ],
      "metadata": {
        "id": "JDEYaETUZDST"
      }
    },
    {
      "cell_type": "code",
      "source": [
        "class VariableReconstructor2D:\n",
        "    @staticmethod\n",
        "    def reconstructVariables(cells, rkStep):\n",
        "        reconst_type = Config2D.RECONST_TYPE\n",
        "\n",
        "        if reconst_type == ReconstructionTypes.FIRST_ORDER:\n",
        "            for i in range(Config2D.NUM_GHOST_CELLS - 1, Config2D.NUM_X_CELLS + Config2D.NUM_GHOST_CELLS + 1):\n",
        "                for j in range(Config2D.NUM_GHOST_CELLS - 1, Config2D.NUM_Y_CELLS + Config2D.NUM_GHOST_CELLS + 1):\n",
        "                    cells[i][j].uWest = cells[i][j].u[rkStep]\n",
        "                    cells[i][j].uEast = cells[i][j].u[rkStep]\n",
        "                    cells[i][j].uSouth = cells[i][j].u[rkStep]\n",
        "                    cells[i][j].uNorth = cells[i][j].u[rkStep]\n",
        "\n",
        "\n",
        "        #####################################################################################################\n",
        "        ## Can be Seen Later - Not needed\n",
        "\n",
        "        # elif reconst_type == ReconstructionTypes.BEAM_WARMING:\n",
        "        #   for i in range(Config.NUM_GHOST_CELLS - 1, Config.NUM_X_CELLS + Config.NUM_GHOST_CELLS + 1):\n",
        "        #       du_dx = (cells[i].u[rkStep] - cells[i - 1].u[rkStep]) / cells[i].dx\n",
        "        #       cells[i].uWest = cells[i].u[rkStep] - du_dx * cells[i].dx / 2.0\n",
        "        #       cells[i].uEast = cells[i].u[rkStep] + du_dx * cells[i].dx / 2.0\n",
        "\n",
        "        # elif reconst_type == ReconstructionTypes.LAX_WENDROFF:\n",
        "        #   for i in range(Config.NUM_GHOST_CELLS - 1, Config.NUM_X_CELLS + Config.NUM_GHOST_CELLS + 1):\n",
        "        #       du_dx = (cells[i+1].u[rkStep] - cells[i].u[rkStep]) / cells[i].dx\n",
        "        #       cells[i].uWest = cells[i].u[rkStep] - du_dx * cells[i].dx / 2.0\n",
        "        #       cells[i].uEast = cells[i].u[rkStep] + du_dx * cells[i].dx / 2.0\n",
        "\n",
        "        # elif reconst_type == ReconstructionTypes.FROMM:\n",
        "        #   for i in range(Config.NUM_GHOST_CELLS - 1, Config.NUM_X_CELLS + Config.NUM_GHOST_CELLS + 1):\n",
        "        #       du_dx = (cells[i+1].u[rkStep] - cells[i-1].u[rkStep]) / 2.0 / cells[i].dx\n",
        "        #       cells[i].uWest = cells[i].u[rkStep] - du_dx * cells[i].dx / 2.0\n",
        "        #       cells[i].uEast = cells[i].u[rkStep] + du_dx * cells[i].dx / 2.0\n",
        "\n",
        "        elif reconst_type == ReconstructionTypes.LIMITED_LM:\n",
        "          for i in range(Config2D.NUM_GHOST_CELLS - 1, Config2D.NUM_X_CELLS + Config2D.NUM_GHOST_CELLS + 1):\n",
        "            for j in range(Config2D.NUM_GHOST_CELLS, Config2D.NUM_Y_CELLS+Config2D.NUM_GHOST_CELLS,1):\n",
        "              r_x = (cells[i][j].u[rkStep] - cells[i-1][j].u[rkStep]) / (cells[i+1][j].u[rkStep] - cells[i][j].u[rkStep] + 0.000001)\n",
        "              r_x = max(0, r_x)\n",
        "\n",
        "              r_y = (cells[i][j].u[rkStep] - cells[i][j-1].u[rkStep]) / (cells[i][j+1].u[rkStep] - cells[i][j].u[rkStep] + 0.000001)\n",
        "              r_y = max(0, r_y)\n",
        "              # Alba Limiter\n",
        "              phi_x = (r_x * r_x + r_x) / (r_x * r_x + 1.0)\n",
        "              phi_y = (r_y * r_y + r_y) / (r_y * r_y + 1.0)\n",
        "              du_dx = (cells[i+1][j].u[rkStep] - cells[i][j].u[rkStep]) / cells[i][j].dx\n",
        "              du_dy = (cells[i][j+1].u[rkStep] - cells[i][j].u[rkStep]) / cells[i][j].dy\n",
        "\n",
        "              cells[i][j].uWest = cells[i][j].u[rkStep] - phi_x * du_dx * cells[i][j].dx / 2.0\n",
        "              cells[i][j].uEast = cells[i][j].u[rkStep] + phi_x * du_dx * cells[i][j].dx / 2.0\n",
        "\n",
        "              cells[i][j].uSouth = cells[i][j].u[rkStep] - phi_y * du_dy * cells[i][j].dy / 2.0\n",
        "              cells[i][j].uNorth = cells[i][j].u[rkStep] + phi_y * du_dy * cells[i][j].dy / 2.0\n"
      ],
      "metadata": {
        "id": "wl4xDaIfZG49"
      },
      "execution_count": null,
      "outputs": []
    },
    {
      "cell_type": "markdown",
      "source": [
        "## Variable Copier"
      ],
      "metadata": {
        "id": "WRXBa4JWpa8w"
      }
    },
    {
      "cell_type": "code",
      "source": [
        "class VariableCopier2D:\n",
        "    def CopyToZerothRKStep(cells):\n",
        "        for i in range(Config2D.NUM_GHOST_CELLS, Config2D.NUM_X_CELLS + Config2D.NUM_GHOST_CELLS, 1):\n",
        "            for j in range(Config2D.NUM_GHOST_CELLS, Config2D.NUM_Y_CELLS + Config2D.NUM_GHOST_CELLS, 1):\n",
        "                cells[i][j].u[0] = cells[i][j].u[Config2D.NUM_RK_STEPS]"
      ],
      "metadata": {
        "id": "v__AprsVphzt"
      },
      "execution_count": null,
      "outputs": []
    },
    {
      "cell_type": "markdown",
      "source": [
        "## Time Step Calculator\n",
        "Will have to update this - Fixed"
      ],
      "metadata": {
        "id": "jF8Rgo9jV3z2"
      }
    },
    {
      "cell_type": "code",
      "source": [
        "def calculatePressure2D(cell):\n",
        "    rho = cell.u[0][0]\n",
        "    S = cell.u[0][3] / rho\n",
        "    Cv = 1/(Config2D.gamma - 1)\n",
        "    return (rho ** Config2D.gamma) * np.exp(S/Cv)"
      ],
      "metadata": {
        "id": "L0PdcNgp1Uz_"
      },
      "execution_count": null,
      "outputs": []
    },
    {
      "cell_type": "code",
      "source": [
        "class TimeStepCalculator2D:\n",
        "    @staticmethod\n",
        "    def getTimeStep(cells):\n",
        "        # dt1 = cells[0][0].dx / abs(Config2D.ADVECTION_VEL_X)\n",
        "        # dt2 = cells[0][0].dy / abs(Config2D.ADVECTION_VEL_Y)\n",
        "        # dt = 1.0 / (1.0 / dt1 + 1.0 / dt2)          # Optimal dt in this case\n",
        "        # return dt * Config2D.COURANT_NUM\n",
        "        press = np.array([[calculatePressure2D(cell) for cell in cell_arr] for cell_arr in cells])\n",
        "        rho = np.array([[cell.u[0][0] for cell in cell_arr] for cell_arr in cells])\n",
        "        soundSpeed = np.sqrt(Config2D.gamma * press / (rho+1e-5))\n",
        "        v = np.array([[np.sqrt(cell.u[0][1] ** 2 + cell.u[0][2] ** 2) for cell in cell_arr] for cell_arr in cells])\n",
        "\n",
        "        return [Config.COURANT_NUM * cells[0][0].dx * ((np.abs(v) + soundSpeed).max()), (np.abs(v) + soundSpeed).max()]\n"
      ],
      "metadata": {
        "id": "QZW8HAzYV6td"
      },
      "execution_count": null,
      "outputs": []
    },
    {
      "cell_type": "markdown",
      "source": [
        "## Time Integration"
      ],
      "metadata": {
        "id": "NhKyay99qCL_"
      }
    },
    {
      "cell_type": "code",
      "source": [
        "class TimeIntegration2D:\n",
        "    @staticmethod\n",
        "    def updateCellAverage(cells, rkStep, dt):\n",
        "        area = cells[0][0].dx * cells[0][0].dy\n",
        "\n",
        "        if(Config2D.NUM_RK_STEPS == 1):\n",
        "            for i in range(Config2D.NUM_GHOST_CELLS, Config2D.NUM_X_CELLS+Config2D.NUM_GHOST_CELLS,1):\n",
        "                for j in range(Config2D.NUM_GHOST_CELLS, Config2D.NUM_Y_CELLS+Config2D.NUM_GHOST_CELLS,1):\n",
        "                    cells[i][j].u[rkStep+1] = cells[i][j].u[rkStep] + dt / area * cells[i][j].totalFlux\n",
        "\n",
        "        elif(Config.NUM_RK_STEPS == 2):\n",
        "            for i in range(Config2D.NUM_GHOST_CELLS, Config2D.NUM_X_CELLS+Config2D.NUM_GHOST_CELLS,1):\n",
        "                for j in range(Config2D.NUM_GHOST_CELLS, Config2D.NUM_Y_CELLS+Config2D.NUM_GHOST_CELLS,1):\n",
        "                    if(rkStep == 0):\n",
        "                        cells[i][j].u[rkStep+1] = cells[i][j].u[rkStep] + dt / area * cells[i][j].totalFlux\n",
        "                    elif(rkStep == 1):\n",
        "                        cells[i][j].u[rkStep+1] = 0.5 * {cells[i][j].u[rkStep-1] + cells[i][j].u[rkStep] + dt/area * cells[i][j].totalFlux}\n",
        "\n",
        "        elif(Config.NUM_RK_STEPS == 3):\n",
        "            for i in range(Config2D.NUM_GHOST_CELLS, Config2D.NUM_X_CELLS+Config2D.NUM_GHOST_CELLS,1):\n",
        "                for j in range(Config2D.NUM_GHOST_CELLS, Config2D.NUM_Y_CELLS+Config2D.NUM_GHOST_CELLS,1):\n",
        "                    if(rkStep == 0):\n",
        "                        cells[i][j].u[rkStep+1] = cells[i][j].u[rkStep] + dt / area * cells[i][j].totalFlux\n",
        "                    elif(rkStep == 1):\n",
        "                        cells[i][j].u[rkStep+1] = 0.75 * cells[i][j].u[rkStep-1] + 0.25 * cells[i][j].u[rkStep] + 0.25 * dt/area * cells[i][j].totalFlux\n",
        "                    elif(rkStep == 2):\n",
        "                        cells[i][j].u[rkStep+1] = 0.33 * cells[i][j].u[rkStep-2] + 0.67 * cells[i][j].u[rkStep] + 0.67 * dt/area * cells[i][j].totalFlux"
      ],
      "metadata": {
        "id": "dQXs3E3uqEx6"
      },
      "execution_count": null,
      "outputs": []
    },
    {
      "cell_type": "markdown",
      "source": [
        "## Flux\n",
        "Need Changes"
      ],
      "metadata": {
        "id": "Spkn5-L-rMIh"
      }
    },
    {
      "cell_type": "code",
      "source": [
        "class Flux2D:\n",
        "    @staticmethod\n",
        "    def calculateFlux(cells, rkStep):\n",
        "        for i in range(len(cells)):\n",
        "            for j in range(len(cells[0])):\n",
        "                cells[i].totalFlux = [0.0, 0.0, 0.0, 0.0]\n",
        "\n",
        "        dx = cells[0][0].dx\n",
        "        dy = cells[0][0].dy\n",
        "        # Flux Calculation for all vertical edges\n",
        "        for j in range(Config2D.NUM_GHOST_CELLS, Config2D.NUM_Y_CELLS+Config2D.NUM_GHOST_CELLS,1):\n",
        "            for verticalinterfaceIndex in range(Config2D.NUM_GHOST_CELLS, Config2D.NUM_X_CELLS+Config2D.NUM_GHOST_CELLS, 1):\n",
        "                # leftValue = cells[verticalinterfaceIndex-1][j].uEast\n",
        "                # rightValue = cells[verticalinterfaceIndex-1][j].uWest\n",
        "\n",
        "                # # Flux calculation according to the scheme\n",
        "                # flux = 0.5 * Config2D.ADVECTION_VEL_X * (leftValue + rightValue) - 0.5 * abs(Config2D.ADVECTION_VEL_X) * (rightValue - leftValue)\n",
        "                # flux *= dy\n",
        "                # cells[verticalinterfaceIndex-1][j].totalFlux -= flux\n",
        "                # cells[verticalinterfaceIndex][j].totalFlux += flux;\n",
        "\n",
        "                # left\n",
        "                left_m1 = cells[verticalinterfaceIndex-1][j].uEast[0]\n",
        "                left_m2 = cells[verticalinterfaceIndex-1][j].uEast[1]\n",
        "                left_m3 = cells[verticalinterfaceIndex-1][j].uEast[2]\n",
        "                left_m4 = cells[verticalinterfaceIndex-1][j].uEast[3]\n",
        "\n",
        "                left_c1, left_c2, left_c3, left_c4 = left_m3, 0.0, 0.0, 0.0\n",
        "                left_p = calculatePressure2D(cells[verticalinterfaceIndex-1][j])\n",
        "\n",
        "                left_c2 += left_p\n",
        "                # if(not(math.isnan((left_m2 ** 2) / left_m1))):\n",
        "                #     left_c2 += ((left_m2 ** 2) / left_m1)\n",
        "\n",
        "                if(not(math.isnan((left_m3 ** 2) / left_m1))):\n",
        "                    left_c2 += ((left_m3 ** 2) / left_m1)\n",
        "\n",
        "                if(not(math.isnan(left_m3 / left_m1))):\n",
        "                    left_c3 += left_m2 * left_m3 / left_m1\n",
        "\n",
        "                # if(not(math.isnan(left_m2 * left_m4 / left_m1))):\n",
        "                #     left_c4 += (left_m2 * left_m4 / left_m1)\n",
        "\n",
        "                if(not(math.isnan(left_m3 * left_m4 / left_m1))):\n",
        "                    left_c4 += (left_m3 * left_m4 / left_m1)\n",
        "                leftValue = np.array([left_c1, left_c2, left_c3, left_c4])\n",
        "\n",
        "                # Right\n",
        "                right_m1 = cells[verticalinterfaceIndex][j].uWest[0]\n",
        "                right_m2 = cells[verticalinterfaceIndex][j].uWest[1]\n",
        "                right_m3 = cells[verticalinterfaceIndex][j].uWest[2]\n",
        "                right_m4 = cells[verticalinterfaceIndex][j].uWest[3]\n",
        "\n",
        "                right_c1, right_c2, right_c3, right_c4 = right_m3, 0.0, 0.0, 0.0\n",
        "                right_p =calculatePressure2D(cells[verticalinterfaceIndex][j])\n",
        "\n",
        "                right_c2 += right_p\n",
        "                # if(not(math.isnan((right_m2 ** 2) / right_m1))):\n",
        "                #     right_c2 += ((right_m2 ** 2) / right_m1)\n",
        "\n",
        "                if(not(math.isnan((right_m3 ** 2) / right_m1))):\n",
        "                    right_c2 += ((right_m3 ** 2) / right_m1)\n",
        "\n",
        "                if(not(math.isnan(right_m3 / right_m1))):\n",
        "                    right_c3 += right_m2 * right_m3 / right_m1\n",
        "\n",
        "                # if(not(math.isnan(right_m2 * right_m4 / right_m1))):\n",
        "                #     right_c4 += (right_m2 * right_m4 / right_m1)\n",
        "\n",
        "                if(not(math.isnan(right_m3 * right_m4 / right_m1))):\n",
        "                    right_c4 += (right_m3 * right_m4 / right_m1)\n",
        "                rightValue = np.array([right_c1, right_c2, right_c3, right_c4])\n",
        "\n",
        "                flux = 0.5 * (rightValue + leftValue)\n",
        "                cells[verticalinterfaceIndex-1][j].totalFlux -= flux\n",
        "                cells[verticalinterfaceIndex][j].totalFlux += flux;\n",
        "\n",
        "        # Flux Calculation for all horizontal edges\n",
        "        for i in range(Config2D.NUM_GHOST_CELLS, Config2D.NUM_X_CELLS+Config2D.NUM_GHOST_CELLS,1):\n",
        "            for horizontalinterfaceIndex in range(Config2D.NUM_GHOST_CELLS, Config2D.NUM_GHOST_CELLS+Config2D.NUM_Y_CELLS+1, 1):\n",
        "                # leftValue = cells[i][verticalinterfaceIndex-1].uNorth\n",
        "                # rightValue = cells[i][verticalinterfaceIndex-1].uSouth\n",
        "\n",
        "                # # Flux calculation according to the scheme\n",
        "                # flux = 0.5 * Config2D.ADVECTION_VEL_Y * (leftValue + rightValue) - 0.5 * abs(Config2D.ADVECTION_VEL_Y) * (rightValue - leftValue)\n",
        "                # flux *= dx\n",
        "                # cells[i][verticalinterfaceIndex-1].totalFlux -= flux\n",
        "                # cells[i][verticalinterfaceIndex].totalFlux += flux;\n",
        "\n",
        "                # left\n",
        "                left_m1 = cells[i][horizontalinterfaceIndex-1].uNorth[0]\n",
        "                left_m2 = cells[i][horizontalinterfaceIndex-1].uNorth[1]\n",
        "                left_m3 = cells[i][horizontalinterfaceIndex-1].uNorth[2]\n",
        "                left_m4 = cells[i][horizontalinterfaceIndex-1].uNorth[3]\n",
        "\n",
        "                left_c1, left_c2, left_c3, left_c4 = left_m2, 0.0, 0.0, 0.0\n",
        "                left_p = calculatePressure(cells[i][horizontalinterfaceIndex-1])\n",
        "\n",
        "                left_c2 += left_p\n",
        "                if(not(math.isnan((left_m2 ** 2) / left_m1))):\n",
        "                    left_c2 += ((left_m2 ** 2) / left_m1)\n",
        "\n",
        "                # if(not(math.isnan((left_m3 ** 2) / left_m1))):\n",
        "                #     left_c2 += ((left_m3 ** 2) / left_m1)\n",
        "\n",
        "                if(not(math.isnan(left_m3 / left_m1))):\n",
        "                    left_c3 += left_m2 * left_m3 / left_m1\n",
        "\n",
        "                if(not(math.isnan(left_m2 * left_m4 / left_m1))):\n",
        "                    left_c4 += (left_m2 * left_m4 / left_m1)\n",
        "\n",
        "                # if(not(math.isnan(left_m3 * left_m4 / left_m1))):\n",
        "                #     left_c4 += (left_m3 * left_m4 / left_m1)\n",
        "                leftValue = np.array([left_c1, left_c2, left_c3, left_c4])\n",
        "\n",
        "                # Right\n",
        "                right_m1 = cells[i][horizontalinterfaceIndex].uSouth[0]\n",
        "                right_m2 = cells[i][horizontalinterfaceIndex].uSouth[1]\n",
        "                right_m3 = cells[i][horizontalinterfaceIndex].uSouth[2]\n",
        "                right_m4 = cells[i][horizontalinterfaceIndex].uSouth[3]\n",
        "\n",
        "                right_c1, right_c2, right_c3, right_c4 = right_m2, 0.0, 0.0, 0.0\n",
        "                right_p = calculatePressure(cells[i][horizontalinterfaceIndex])\n",
        "\n",
        "                right_c2 += right_p\n",
        "                if(not(math.isnan((right_m2 ** 2) / right_m1))):\n",
        "                    right_c2 += ((right_m2 ** 2) / right_m1)\n",
        "\n",
        "                # if(not(math.isnan((right_m3 ** 2) / right_m1))):\n",
        "                #     right_c2 += ((right_m3 ** 2) / right_m1)\n",
        "\n",
        "                if(not(math.isnan(right_m3 / right_m1))):\n",
        "                    right_c3 += right_m2 * right_m3 / right_m1\n",
        "\n",
        "                if(not(math.isnan(right_m2 * right_m4 / right_m1))):\n",
        "                    right_c4 += (right_m2 * right_m4 / right_m1)\n",
        "\n",
        "                # if(not(math.isnan(right_m3 * right_m4 / right_m1))):\n",
        "                #     right_c4 += (right_m3 * right_m4 / right_m1)\n",
        "                rightValue = np.array([right_c1, right_c2, right_c3, right_c4])\n",
        "\n",
        "                flux = 0.5 * (rightValue + leftValue)\n",
        "                cells[i][horizontalinterfaceIndex-1].totalFlux -= flux\n",
        "                cells[i][horizontalinterfaceIndex].totalFlux += flux;"
      ],
      "metadata": {
        "id": "OzrUXk6mrNz0"
      },
      "execution_count": null,
      "outputs": []
    },
    {
      "cell_type": "markdown",
      "source": [
        "## Solution Initializer \\& Writer"
      ],
      "metadata": {
        "id": "Sni_D_mvTCGR"
      }
    },
    {
      "cell_type": "code",
      "source": [
        "import math\n",
        "class SolutionInitializer2D:\n",
        "    @staticmethod\n",
        "    def initializeSolution(cells):\n",
        "        rkStep = 0\n",
        "        for cellrow in cells:\n",
        "          for cell in cellrow:\n",
        "            # if(-0.25 < cell.cx < 0.25 and -0.25 < cell.dy < 0.25):\n",
        "            #     cell.u[rkStep] = 1.0\n",
        "            # else:\n",
        "            #     cell.u[rkStep] = 0.0\n",
        "            if(cell.cx > 0 and cell.cy > 0):\n",
        "                cell.u[rkStep] = [1.0, 0.75, -0.5, 0.0]\n",
        "\n",
        "            elif(cell.cx < 0 and cell.cy > 0):\n",
        "                cell.u[rkStep] = [2.0, 1.5, 1.0, 2.0 * np.log(1/(2.0**Config2D.gamma))/(Config2D.gamma-1)]\n",
        "\n",
        "            elif(cell.cx < 0 and cell.cy < 0):\n",
        "                cell.u[rkStep] = [1.0, -0.75, 0.5, 0.0]\n",
        "\n",
        "            else:\n",
        "                cell.u[rkStep] = [3.0, -2.25, -1.5, 3.0 * np.log(1/(3.0**Config2D.gamma))/(Config2D.gamma-1)]\n",
        "\n",
        "            # cell.u[rkStep] = math.sin(math.pi * cell.cx)\n"
      ],
      "metadata": {
        "id": "HlTq8-vtTFHu"
      },
      "execution_count": null,
      "outputs": []
    },
    {
      "cell_type": "markdown",
      "source": [
        "## CFD Solver\n",
        "Need Changes"
      ],
      "metadata": {
        "id": "n1jFpuALQF0w"
      }
    },
    {
      "cell_type": "code",
      "source": [
        "class CFDSolverStructured2D:\n",
        "    @staticmethod\n",
        "    def main():\n",
        "        cells = [[Cell2D() for _ in range(Config2D.NUM_Y_CELLS + 2 * Config2D.NUM_GHOST_CELLS)] for j in range(Config2D.NUM_X_CELLS + 2 * Config2D.NUM_GHOST_CELLS)]\n",
        "\n",
        "        dx = (Config2D.MAX_X - Config2D.MIN_X) / Config2D.NUM_X_CELLS\n",
        "        dy = (Config2D.MAX_Y - Config2D.MIN_Y) / Config2D.NUM_Y_CELLS\n",
        "        for i in range(len(cells)):\n",
        "            for j in range(len(cells[0])):\n",
        "                cells[i][j] = Cell2D()\n",
        "                cells[i][j].dx = dx\n",
        "                cells[i][j].cx = Config2D.MIN_X + dx * (i + 0.5 - Config2D.NUM_GHOST_CELLS) #/ (2 * Config2D.NUM_GHOST_CELLS)\n",
        "                cells[i][j].dy = dy\n",
        "                cells[i][j].cy = Config2D.MIN_Y + dy * (j + 0.5 - Config2D.NUM_GHOST_CELLS) # / (2 * Config2D.NUM_GHOST_CELLS)\n",
        "\n",
        "        arr_cx = [[cell.cx for cell in cell_arr[Config2D.NUM_GHOST_CELLS:-Config2D.NUM_GHOST_CELLS]] for cell_arr in cells[Config2D.NUM_GHOST_CELLS:-Config2D.NUM_GHOST_CELLS]]\n",
        "\n",
        "        SolutionInitializer2D.initializeSolution(cells)\n",
        "        data = [[cell.u[0] for cell in cell_arr] for cell_arr in cells]\n",
        "        arr_data = [[cell.u[0][0] for cell in cell_arr[Config2D.NUM_GHOST_CELLS:-Config2D.NUM_GHOST_CELLS]] for cell_arr in cells[Config2D.NUM_GHOST_CELLS:-Config2D.NUM_GHOST_CELLS]]\n",
        "        x = np.linspace(-0.5, 0.5, len(arr_data))\n",
        "        y = np.linspace(-0.5, 0.5, len(arr_data[0]))\n",
        "        X, Y = np.meshgrid(x, y)\n",
        "        # fig = plt.figure(figsize = (8,6))\n",
        "        # ax = plt.axes(projection='3d')\n",
        "        # ax.scatter3D(X, Y, arr_data,color = 'black', s =1)\n",
        "        # # ax.plot3D(X, Y, data,color = 'black', s =1)\n",
        "        # ax.grid()\n",
        "        # ax.plot3D(x,y,data)\n",
        "        # plt.show()\n",
        "        arr_data = np.array(arr_data)\n",
        "        time = 0.0\n",
        "        #   SolutionFileWriter2D.writeSolutionFile(cells, time)\n",
        "        lastTimeStep = False\n",
        "\n",
        "        for timeiter in range(Config2D.MAX_TIME_ITER):\n",
        "            arr = TimeStepCalculator2D.getTimeStep(cells)\n",
        "            dt = arr[0]\n",
        "            if(time + dt > Config2D.STOPPING_TIME):\n",
        "                dt = Config2D.STOPPING_TIME - time\n",
        "                lastTimeStep = True\n",
        "\n",
        "            for rkStep in range(Config2D.NUM_RK_STEPS):\n",
        "                GhostCellUpdater2D.updateGhostCells(cells, rkStep)\n",
        "                VariableReconstructor2D.reconstructVariables(cells, rkStep)\n",
        "                Flux2D.calculateFlux\n",
        "                TimeIntegration2D.updateCellAverage(cells, rkStep, dt)\n",
        "\n",
        "            VariableCopier2D.CopyToZerothRKStep(cells)\n",
        "            time += dt\n",
        "            if(lastTimeStep):\n",
        "                break\n",
        "        data = [[cell.u[0][0] for cell in cell_arr[Config2D.NUM_GHOST_CELLS:-Config2D.NUM_GHOST_CELLS]] for cell_arr in cells[Config2D.NUM_GHOST_CELLS:-Config2D.NUM_GHOST_CELLS]]\n",
        "\n",
        "        # print(data.shape)\n",
        "        x = np.linspace(-0.5, 0.5, len(data))\n",
        "        y = np.linspace(-0.5, 0.5, len(data[0]))\n",
        "        X, Y = np.meshgrid(x, y)\n",
        "        plt.imshow(np.array(data), cmap = 'hot')\n",
        "        plt.show()\n",
        "        # ax.plot3D(x,y,data)\n",
        "        # plt.show()\n",
        "        # data = np.array(data)\n",
        "        # print(np.unique(data))"
      ],
      "metadata": {
        "id": "iN7L2w4cQFAT"
      },
      "execution_count": null,
      "outputs": []
    },
    {
      "cell_type": "code",
      "source": [
        "cf = CFDSolverStructured2D.main()"
      ],
      "metadata": {
        "id": "71-PjLcDg6Ai",
        "colab": {
          "base_uri": "https://localhost:8080/",
          "height": 758
        },
        "outputId": "7e40cc9f-d491-47ff-b2a9-478470d6ec34"
      },
      "execution_count": null,
      "outputs": [
        {
          "output_type": "display_data",
          "data": {
            "text/plain": [
              "<Figure size 1280x880 with 1 Axes>"
            ],
            "image/png": "[encoded data removed]"
          },
          "metadata": {}
        }
      ]
    },
    {
      "cell_type": "code",
      "source": [],
      "metadata": {
        "id": "sbVuWAisMysG"
      },
      "execution_count": null,
      "outputs": []
    }
  ]
}