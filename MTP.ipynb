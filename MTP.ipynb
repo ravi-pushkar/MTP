{
  "cells": [
    {
      "cell_type": "markdown",
      "metadata": {
        "id": "dEgDzBaxdvpv"
      },
      "source": [
        "# Thermodynamically Compatible Finite Volume Scheme\n",
        "\n",
        "We will consider finite-volume methods. These are popular in astrophysics because they are based on the integral form of the conservative equations and properly conserve mass, momentum, and energy. We will consider an Eulerian grid: the grid is fixed and the fluid moves through it. We will be explicit in time: the new solution depends only on the previous state."
      ]
    },
    {
      "cell_type": "markdown",
      "metadata": {
        "id": "yE9Oj8FAooAa"
      },
      "source": [
        "## Importing Libraries"
      ]
    },
    {
      "cell_type": "code",
      "execution_count": null,
      "metadata": {
        "id": "EW7lPxN4d9rq"
      },
      "outputs": [],
      "source": [
        "import numpy as np\n",
        "# from numpy import *cells[interfaceIndex-1].u[rkStep][0]\n",
        "import matplotlib.pyplot as plt\n",
        "import matplotlib.image as mlt\n",
        "import scipy.optimize as optimize\n",
        "import math"
      ]
    },
    {
      "cell_type": "markdown",
      "metadata": {
        "id": "Ua4OoKnv5bja"
      },
      "source": [
        "## Euler Subsystem"
      ]
    },
    {
      "cell_type": "markdown",
      "metadata": {
        "id": "dD7h4y-Tj0Bd"
      },
      "source": [
        "We'll manage our 1-d grid via a class FVGrid. We will divide the domain into a number of zones (or volumes) that will store the state. To implement boundary conditions, we traditionally use ghost cells--extra cells added to each end of the domain. We use $lo$ and $hi$ to refer to the first and last zone in our domain.\n",
        "\n"
      ]
    },
    {
      "cell_type": "markdown",
      "metadata": {
        "id": "vC1fjOKJDKsg"
      },
      "source": [
        "<!-- ![image](https://raw.githubusercontent.com/python-hydro/how_to_write_a_hydro_code/337a066405b47f9a31c8dd00ec833c3ba6742c3c//simplegrid_gc.png) -->"
      ]
    },
    {
      "cell_type": "markdown",
      "metadata": {
        "id": "ZS4xOh2YjiAA"
      },
      "source": [
        "To make life easier, we'll have a simple class with indices that we use to index the fluid state arrays. We can pass this around and be sure that we are always accessing the correct fluid state."
      ]
    },
    {
      "cell_type": "code",
      "execution_count": null,
      "metadata": {
        "id": "7y-hCGM-gVIm"
      },
      "outputs": [],
      "source": [
        "class FluidVars:\n",
        "    \"\"\"A simple container that holds the integer indicies we will use to\n",
        "    refer to the different fluid components\"\"\"\n",
        "    def __init__(self, gamma=1.4, C=0.8):\n",
        "        self.nvar = 3\n",
        "\n",
        "        # conserved variables\n",
        "        self.urho = 0  # rho\n",
        "        self.umx = 1 # rho * u\n",
        "        self.uener = 2 # E\n",
        "\n",
        "        # primitive variables\n",
        "        self.qrho = 0\n",
        "        self.qu = 1\n",
        "        self.qp = 2\n",
        "\n",
        "        # EOS gamma\n",
        "        self.gamma = gamma\n",
        "\n",
        "        # CFL number\n",
        "        self.C = C"
      ]
    },
    {
      "cell_type": "markdown",
      "metadata": {
        "id": "Nyk_K_njjnBi"
      },
      "source": [
        "This is the main class for managing the finite-volume grid. In addition to holding coordinate information and knowing the bounds of the domain, it also can fill the ghost cells and give you a scratch array that lives on the same grid."
      ]
    },
    {
      "cell_type": "code",
      "execution_count": null,
      "metadata": {
        "id": "vew1v7IVjdLQ"
      },
      "outputs": [],
      "source": [
        "class FVGrid:\n",
        "    \"\"\"The main finite-volume grid class for holding our fluid state.\"\"\"\n",
        "\n",
        "    def __init__(self, nx, ng, xmin=0.0, xmax=1.0):\n",
        "\n",
        "        self.xmin = xmin\n",
        "        self.xmax = xmax\n",
        "        self.ng = ng\n",
        "        self.nx = nx\n",
        "\n",
        "        self.lo = ng\n",
        "        self.hi = ng+nx-1\n",
        "\n",
        "        # physical coords -- cell-centered\n",
        "        self.dx = (xmax - xmin)/(nx)\n",
        "        self.x = xmin + (np.arange(nx+2*ng)-ng+0.5)*self.dx\n",
        "\n",
        "    def scratch_array(self, nc=1):\n",
        "        \"\"\" return a scratch array dimensioned for our grid \"\"\"\n",
        "        return np.squeeze(np.zeros((self.nx+2*self.ng, nc), dtype=np.float64))\n",
        "\n",
        "    def fill_BCs(self, atmp, bc = 'not-per'):\n",
        "        \"\"\" fill all ghost cells with zero-gradient boundary conditions \"\"\"\n",
        "        if bc == 'not-per':\n",
        "          if atmp.ndim == 2:\n",
        "              for n in range(atmp.shape[-1]):\n",
        "                  atmp[0:self.lo, n] = atmp[self.lo, n]\n",
        "                  atmp[self.hi+1:, n] = atmp[self.hi, n]\n",
        "          else:\n",
        "              atmp[0:self.lo] = atmp[self.lo]\n",
        "              atmp[self.hi+1:] = atmp[self.hi]\n",
        "        if bc == 'per':\n",
        "          if atmp.ndim == 2:\n",
        "            for n in range(atmp.shape[-1]):\n",
        "                atmp[0:self.lo, n] = atmp[self.hi, n]\n",
        "                atmp[self.hi+1:, n] = atmp[self.hi, n]\n",
        "          else:\n",
        "              atmp[0:self.lo] = atmp[self.hi]\n",
        "              atmp[self.hi+1:] = atmp[self.hi]"
      ]
    },
    {
      "cell_type": "markdown",
      "metadata": {
        "id": "fYGAD4urkjTQ"
      },
      "source": [
        "We need to use the cell-averages to figure out what the fluid state is on the interfaces. We'll reconstruct the cell-averages as piecewise lines that give us the same average in the zone. We then follow these lines to the interfaces to define the left and right state at each interface.\n",
        "Usually we work in terms of the primitive variables, $$ q = (\\rho, u, p) $$ So, we first write a routine to do the algebraic transformation from conservative to primitive variables:\n",
        "$$\\rho = \\rho$$\n",
        "$$ u = \\frac{\\rho u}{\\rho} $$\n",
        "$$ p = ((\\rho E) - \\frac{1}{2} \\frac{(\\rho u)^{2}}{\\rho})(γ - 1)$$"
      ]
    },
    {
      "cell_type": "code",
      "execution_count": null,
      "metadata": {
        "id": "U1GFlYK2jq22"
      },
      "outputs": [],
      "source": [
        "def cons_to_prim(grid, U):\n",
        "    \"\"\"take a conservative state U and return the corresponding primitive\n",
        "    variable state as a new array.\"\"\"\n",
        "    v = FluidVars()\n",
        "    q = grid.scratch_array(nc=v.nvar)\n",
        "\n",
        "    q[:, v.qrho] = U[:, v.urho]\n",
        "    q[:, v.qu] = U[:, v.umx]/U[:, v.urho]\n",
        "    rhoe = U[:, v.uener] - 0.5*q[:, v.qrho]*q[:, v.qu]**2\n",
        "    q[:, v.qp] = rhoe*(v.gamma - 1.0)\n",
        "    return q"
      ]
    },
    {
      "cell_type": "markdown",
      "metadata": {
        "id": "CnpjLGsOk6V-"
      },
      "source": [
        "Next we need a routine to create the interface states. Here's we'll construct a slope for each zone, $ Δq $  based on the average state in the neighboring zones. This gives us a line representing the value of the fluid state as a function of position in each zone:\n",
        "\n",
        "$$ q_i(x) = \\langle q\\rangle _i + \\frac{Δq_i}{Δx} (x-x_i) $$\n",
        "\n",
        "Note that there is a unique $ q_i(x) $\n",
        " for each zone—this is usually called piecewise linear reconstruction. By design, the average of $ q_i(x) $ over the zone is the cell-average, so it is conservative.\n",
        "\n",
        "We use this equation for a line to find the fluid state right at the interface. For zone $ i $, the line $ q_i(x) $ gives you the right state on the left interface, $ q_{i+\\frac{1}{2}, R} $\n",
        ", and the left state on the right interface, $ q_{i+\\frac{1}{2}, L} $\n",
        "."
      ]
    },
    {
      "cell_type": "markdown",
      "metadata": {
        "id": "J4KjRQ3UE6mn"
      },
      "source": [
        "<!-- ![image](https://raw.githubusercontent.com/python-hydro/how_to_write_a_hydro_code/337a066405b47f9a31c8dd00ec833c3ba6742c3c//riemann-mol.png) -->"
      ]
    },
    {
      "cell_type": "markdown",
      "metadata": {
        "id": "YcaIEnviouwB"
      },
      "source": [
        "There's one additional wrinkle—2nd order codes tend to produce oscillations near discontinuities, so we usually need to limit the slopes, $ Δq_i $\n",
        ", so we don't introduce new minima or maxima in the evolution. We'll use the minmod limiter:\n",
        "\n",
        "$$\\frac{∂ a}{∂ x} = minmod_{i} (\\frac{a_i - a_{i-1}}{Δx}, \\frac{a_{i+1} - a_{i}}{Δx})$$\n",
        "\n",
        "with\n",
        "$$ minmod(a, b) = \\begin{cases}\n",
        "a \\text{ if } |a| < |b| \\text{ and } a.b > 0 \\\\\n",
        "b \\text{ if } |a| > |b| \\text{ and } a.b > 0 \\\\\n",
        "0 \\text{ otherwise }\n",
        "\\end{cases} $$"
      ]
    },
    {
      "cell_type": "code",
      "execution_count": null,
      "metadata": {
        "id": "qMnx6myXnSyz"
      },
      "outputs": [],
      "source": [
        "def states(grid, U):\n",
        "    v = FluidVars()\n",
        "    q = cons_to_prim(grid, U)\n",
        "\n",
        "    # construct the slopes\n",
        "    dq = grid.scratch_array(nc=v.nvar)\n",
        "\n",
        "    for n in range(v.nvar):\n",
        "        dl = grid.scratch_array()\n",
        "        dr = grid.scratch_array()\n",
        "\n",
        "        dl[grid.lo-1:grid.hi+2] = q[grid.lo:grid.hi+3,n] - q[grid.lo-1:grid.hi+2,n]\n",
        "        dr[grid.lo-1:grid.hi+2] = q[grid.lo-1:grid.hi+2,n] - q[grid.lo-2:grid.hi+1,n]\n",
        "\n",
        "        # these where's do a minmod()\n",
        "        d1 = np.where(np.fabs(dl) < np.fabs(dr), dl, dr)\n",
        "        dq[:, n] = np.where(dl*dr > 0.0, d1, 0.0)\n",
        "\n",
        "    # now make the states\n",
        "    q_l = grid.scratch_array(nc=v.nvar)\n",
        "    q_l[grid.lo:grid.hi+2, :] = q[grid.lo-1:grid.hi+1, :] + 0.5*dq[grid.lo-1:grid.hi+1, :]\n",
        "\n",
        "    q_r = grid.scratch_array(nc=v.nvar)\n",
        "    q_r[grid.lo:grid.hi+2, :] = q[grid.lo:grid.hi+2, :] - 0.5*dq[grid.lo:grid.hi+2, :]\n",
        "\n",
        "    return q_l, q_r"
      ]
    },
    {
      "cell_type": "markdown",
      "metadata": {
        "id": "-yv_v1TmFr5u"
      },
      "source": [
        "# Riemann problem and conservative update"
      ]
    },
    {
      "cell_type": "markdown",
      "metadata": {
        "id": "4E5AtjsYFvZe"
      },
      "source": [
        "After doing our reconstruction, we are left with a left and right state on an interface. To find the unique fluid state on the interface, we solve a Riemann problem,\n",
        "$$ q_{i+\\frac{1}{2}} = \\mathcal{R}(q_{i+\\frac{1}{2},L},q_{i+\\frac{1}{2},R}) $$"
      ]
    },
    {
      "cell_type": "markdown",
      "metadata": {
        "id": "ATyyvBNfK1l9"
      },
      "source": [
        "## Riemann Solver for the Euler Equations"
      ]
    },
    {
      "cell_type": "code",
      "execution_count": null,
      "metadata": {
        "id": "uSI1Kp5HK0O8"
      },
      "outputs": [],
      "source": [
        "class State(object):\n",
        "    \"\"\" a simple object to hold a primitive variable state \"\"\"\n",
        "\n",
        "    def __init__(self, p=1.0, u=0.0, rho=1.0):\n",
        "        self.p = p\n",
        "        self.u = u\n",
        "        self.rho = rho\n",
        "\n",
        "    def __str__(self):\n",
        "        return \"rho: {}; u: {}; p: {}\".format(self.rho, self.u, self.p)\n"
      ]
    },
    {
      "cell_type": "code",
      "execution_count": null,
      "metadata": {
        "id": "841cHD8YLA6J"
      },
      "outputs": [],
      "source": [
        "class RiemannProblem(object):\n",
        "    \"\"\" a class to define a Riemann problem.  It takes a left\n",
        "        and right state.  Note: we assume a constant gamma \"\"\"\n",
        "\n",
        "    def __init__(self, left_state, right_state, gamma=1.4):\n",
        "        self.left = left_state\n",
        "        self.right = right_state\n",
        "        self.gamma = gamma\n",
        "\n",
        "        self.ustar = None\n",
        "        self.pstar = None\n",
        "\n",
        "    def u_hugoniot(self, p, side):\n",
        "        \"\"\"define the Hugoniot curve, u(p).\"\"\"\n",
        "\n",
        "        if side == \"left\":\n",
        "            state = self.left\n",
        "            s = 1.0\n",
        "        elif side == \"right\":\n",
        "            state = self.right\n",
        "            s = -1.0\n",
        "\n",
        "        c = np.sqrt(self.gamma*state.p/state.rho)\n",
        "\n",
        "        if p < state.p:\n",
        "            # rarefaction\n",
        "            u = state.u + s*(2.0*c/(self.gamma-1.0))* \\\n",
        "                (1.0 - (p/state.p)**((self.gamma-1.0)/(2.0*self.gamma)))\n",
        "        else:\n",
        "            # shock\n",
        "            beta = (self.gamma+1.0)/(self.gamma-1.0)\n",
        "            u = state.u + s*(2.0*c/np.sqrt(2.0*self.gamma*(self.gamma-1.0)))* \\\n",
        "                (1.0 - p/state.p)/np.sqrt(1.0 + beta*p/state.p)\n",
        "\n",
        "        return u\n",
        "\n",
        "    def find_star_state(self, p_min=0.001, p_max=1000.0):\n",
        "        \"\"\" root find the Hugoniot curve to find ustar, pstar \"\"\"\n",
        "\n",
        "        # we need to root-find on\n",
        "        self.pstar = optimize.brentq(\n",
        "            lambda p: self.u_hugoniot(p, \"left\") - self.u_hugoniot(p, \"right\"),\n",
        "            p_min, p_max)\n",
        "        self.ustar = self.u_hugoniot(self.pstar, \"left\")\n",
        "\n",
        "\n",
        "    def shock_solution(self, sgn, state):\n",
        "        \"\"\"return the interface solution considering a shock\"\"\"\n",
        "\n",
        "        p_ratio = self.pstar/state.p\n",
        "        c = np.sqrt(self.gamma*state.p/state.rho)\n",
        "\n",
        "        # Toro, eq. 4.52 / 4.59\n",
        "        S = state.u + sgn*c*np.sqrt(0.5*(self.gamma + 1.0)/self.gamma*p_ratio +\n",
        "                                    0.5*(self.gamma - 1.0)/self.gamma)\n",
        "\n",
        "        # are we to the left or right of the shock?\n",
        "        if (self.ustar < 0 and S < 0) or (self.ustar > 0 and S > 0):\n",
        "            # R/L region\n",
        "            solution = state\n",
        "        else:\n",
        "            # * region -- get rhostar from Toro, eq. 4.50 / 4.57\n",
        "            gam_fac = (self.gamma - 1.0)/(self.gamma + 1.0)\n",
        "            rhostar = state.rho * (p_ratio + gam_fac)/(gam_fac * p_ratio + 1.0)\n",
        "            solution = State(rho=rhostar, u=self.ustar, p=self.pstar)\n",
        "\n",
        "        return solution\n",
        "\n",
        "    def rarefaction_solution(self, sgn, state):\n",
        "        \"\"\"return the interface solution considering a rarefaction wave\"\"\"\n",
        "\n",
        "        # find the speed of the head and tail of the rarefaction fan\n",
        "\n",
        "        # isentropic (Toro eq. 4.54 / 4.61)\n",
        "        p_ratio = self.pstar/state.p\n",
        "        c = np.sqrt(self.gamma*state.p/state.rho)\n",
        "        cstar = c*p_ratio**((self.gamma-1.0)/(2*self.gamma))\n",
        "\n",
        "        lambda_head = state.u + sgn*c\n",
        "        lambda_tail = self.ustar + sgn*cstar\n",
        "\n",
        "        gam_fac = (self.gamma - 1.0)/(self.gamma + 1.0)\n",
        "\n",
        "        if (sgn > 0 and lambda_head < 0) or (sgn < 0 and lambda_head > 0):\n",
        "            # R/L region\n",
        "            solution = state\n",
        "\n",
        "        elif (sgn > 0 and lambda_tail > 0) or (sgn < 0 and lambda_tail < 0):\n",
        "            # * region, we use the isentropic density (Toro 4.53 / 4.60)\n",
        "            solution = State(rho = state.rho*p_ratio**(1.0/self.gamma),\n",
        "                             u = self.ustar, p = self.pstar)\n",
        "\n",
        "        else:\n",
        "            # we are in the fan -- Toro 4.56 / 4.63\n",
        "            rho = state.rho * (2/(self.gamma + 1.0) -\n",
        "                               sgn*gam_fac*state.u/c)**(2.0/(self.gamma-1.0))\n",
        "            u = 2.0/(self.gamma + 1.0) * ( -sgn*c + 0.5*(self.gamma - 1.0)*state.u)\n",
        "            p = state.p * (2/(self.gamma + 1.0) -\n",
        "                           sgn*gam_fac*state.u/c)**(2.0*self.gamma/(self.gamma-1.0))\n",
        "            solution = State(rho=rho, u=u, p=p)\n",
        "\n",
        "        return solution\n",
        "\n",
        "    def sample_solution(self):\n",
        "        \"\"\"given the star state (ustar, pstar), find the state on the interface\"\"\"\n",
        "\n",
        "        if self.ustar < 0:\n",
        "            # we are in the R* or R region\n",
        "            state = self.right\n",
        "            sgn = 1.0\n",
        "        else:\n",
        "            # we are in the L* or L region\n",
        "            state = self.left\n",
        "            sgn = -1.0\n",
        "\n",
        "        # is the non-contact wave a shock or rarefaction?\n",
        "        if self.pstar > state.p:\n",
        "            # compression! we are a shock\n",
        "            solution = self.shock_solution(sgn, state)\n",
        "\n",
        "        else:\n",
        "            # rarefaction\n",
        "            solution = self.rarefaction_solution(sgn, state)\n",
        "\n",
        "        return solution"
      ]
    },
    {
      "cell_type": "markdown",
      "metadata": {
        "id": "f96D0qaVKtNI"
      },
      "source": [
        "Once we have the interface state, we can compute the fluxes using this state:"
      ]
    },
    {
      "cell_type": "code",
      "execution_count": null,
      "metadata": {
        "id": "z-b_RouDFuZn"
      },
      "outputs": [],
      "source": [
        "def cons_flux(state, v):\n",
        "    \"\"\" given an interface state, return the conservative flux\"\"\"\n",
        "    flux = np.zeros((v.nvar), dtype=np.float64)\n",
        "\n",
        "    flux[v.urho] = state.rho * state.u\n",
        "    flux[v.umx] = flux[v.urho] * state.u + state.p\n",
        "    flux[v.uener] = (0.5 * state.rho * state.u**2 +\n",
        "                     state.p/(v.gamma - 1.0) + state.p) * state.u\n",
        "    return flux"
      ]
    },
    {
      "cell_type": "code",
      "execution_count": null,
      "metadata": {
        "id": "5pM3197_MJtX"
      },
      "outputs": [],
      "source": [
        "def make_flux_divergence(grid, U):\n",
        "\n",
        "    v = FluidVars()\n",
        "\n",
        "    # get the states\n",
        "    q_l, q_r = states(grid, U)\n",
        "\n",
        "    # now solve the Riemann problem\n",
        "    flux = grid.scratch_array(nc=v.nvar)\n",
        "    for i in range(grid.lo, grid.hi+2):\n",
        "        sl = State(rho=q_l[i,v.qrho], u=q_l[i,v.qu], p=q_l[i,v.qp])\n",
        "        sr = State(rho=q_r[i,v.qrho], u=q_r[i,v.qu], p=q_r[i,v.qp])\n",
        "        rp = RiemannProblem(sl, sr, gamma=v.gamma)\n",
        "        rp.find_star_state()\n",
        "        q_int = rp.sample_solution()\n",
        "        flux[i, :] = cons_flux(q_int, v)\n",
        "\n",
        "    A = grid.scratch_array(nc=v.nvar)\n",
        "    for n in range(v.nvar):\n",
        "        A[grid.lo:grid.hi+1, n] = (flux[grid.lo:grid.hi+1, n] -\n",
        "                                   flux[grid.lo+1:grid.hi+2, n])/grid.dx\n",
        "\n",
        "    return A"
      ]
    },
    {
      "cell_type": "markdown",
      "metadata": {
        "id": "nVp_6gdhMaAC"
      },
      "source": [
        "# Timestep"
      ]
    },
    {
      "cell_type": "markdown",
      "metadata": {
        "id": "9r3Rk12dMcsG"
      },
      "source": [
        "We cannot allow information to move more than one zone per step. For the hydro equations, the speeds at which information travels are $u$ and $u \\pm c$, so we use the largest speed here to compute the timestep.\n",
        "$$c = \\sqrt{\\gamma p /\\rho}$$"
      ]
    },
    {
      "cell_type": "code",
      "execution_count": null,
      "metadata": {
        "id": "fmQo8LIuMYut"
      },
      "outputs": [],
      "source": [
        "def timestep(grid, U):\n",
        "\n",
        "    v = FluidVars()\n",
        "\n",
        "    # compute the sound speed\n",
        "    q = cons_to_prim(grid, U)\n",
        "    c = grid.scratch_array()\n",
        "    c[grid.lo:grid.hi+1] = np.sqrt(v.gamma *\n",
        "                                   q[grid.lo:grid.hi+1,v.qp] /\n",
        "                                   q[grid.lo:grid.hi+1,v.qrho])\n",
        "\n",
        "    dt = v.C * grid.dx / (np.abs(q[grid.lo:grid.hi+1, v.qu]) +\n",
        "                          c[grid.lo:grid.hi+1]).max()\n",
        "    return dt"
      ]
    },
    {
      "cell_type": "markdown",
      "metadata": {
        "id": "ZXQxakQTMyqg"
      },
      "source": [
        "# Main Driver Function"
      ]
    },
    {
      "cell_type": "markdown",
      "metadata": {
        "id": "Z-B0YDnkM1YD"
      },
      "source": [
        "The update looks like:\n",
        "$$U^{*} = U^{n} + \\frac{Δt}{2} A(U^{n})$$\n",
        "$$U^{n+1} = U^{n} + ΔtA(U^{*})$$"
      ]
    },
    {
      "cell_type": "code",
      "execution_count": null,
      "metadata": {
        "id": "Z3TYV7puMwUI"
      },
      "outputs": [],
      "source": [
        "def mol_solve(nx, tmax=1.0, init_cond=None, bc = 'not-per'):\n",
        "    \"\"\"Perform 2nd order MOL integration of the Euler equations.\n",
        "    You need to pass in a function foo(grid) that returns the\n",
        "    initial conserved fluid state.\"\"\"\n",
        "\n",
        "    grid = FVGrid(nx, 2)\n",
        "    v = FluidVars()\n",
        "\n",
        "    U = init_cond(grid)\n",
        "\n",
        "    t = 0.0\n",
        "\n",
        "    while t < tmax:\n",
        "        dt = timestep(grid, U)\n",
        "        if t + dt > tmax:\n",
        "            dt = tmax - t\n",
        "\n",
        "        grid.fill_BCs(U, bc)\n",
        "        k1 = make_flux_divergence(grid, U)\n",
        "\n",
        "        U_tmp = grid.scratch_array(nc=v.nvar)\n",
        "        for n in range(v.nvar):\n",
        "            U_tmp[:, n] = U[:, n] + 0.5 * dt * k1[:, n]\n",
        "\n",
        "        grid.fill_BCs(U_tmp, bc)\n",
        "        k2 = make_flux_divergence(grid, U_tmp)\n",
        "\n",
        "        for n in range(v.nvar):\n",
        "            U[:, n] += dt * k2[:, n]\n",
        "\n",
        "        t += dt\n",
        "\n",
        "    return grid, U"
      ]
    },
    {
      "cell_type": "markdown",
      "metadata": {
        "id": "M04jh2pqQ4SM"
      },
      "source": [
        "# Convergence"
      ]
    },
    {
      "cell_type": "code",
      "execution_count": null,
      "metadata": {
        "id": "TffzXBNEbE4e"
      },
      "outputs": [],
      "source": [
        "def rate_of_convergence(x_index, m, tmax, initcond):\n",
        "  I_values = np.zeros(4)\n",
        "\n",
        "  for i in range(4):\n",
        "    g, U = mol_solve(m, tmax=tm, init_cond = initcond)\n",
        "    val = 0\n",
        "    ex = 2**i\n",
        "    for j in range(ex):\n",
        "      val += U[:, v.urho][ex*(x_index)+j]\n",
        "    val /= ex\n",
        "    I_values[i] = val\n",
        "    m *= 2\n",
        "\n",
        "  logi = abs(I_values[0] - I_values[1])/abs(I_values[1] - I_values[2])\n",
        "  rate_of_conv = np.log2(logi)\n",
        "  return rate_of_conv"
      ]
    },
    {
      "cell_type": "code",
      "execution_count": null,
      "metadata": {
        "id": "zyVNQMOUQ6uk"
      },
      "outputs": [],
      "source": [
        "import numpy as np\n",
        "\n",
        "def convergence_rate(u, h):\n",
        "    r = np.zeros_like(u)\n",
        "    for i in range(1, len(u)-1):\n",
        "        r[i] = (u[i+1] - u[i]) / (u[i] - u[i-1])\n",
        "    return r\n",
        "\n",
        "def order_of_convergence(r, h):\n",
        "    p = np.polyfit(np.log(h), np.log(np.abs(r)), 1)\n",
        "    return p[0]"
      ]
    },
    {
      "cell_type": "markdown",
      "metadata": {
        "id": "5zkPoLBTCoIT"
      },
      "source": [
        "# Example"
      ]
    },
    {
      "cell_type": "markdown",
      "metadata": {
        "id": "YMpRGLkxlnGI"
      },
      "source": [
        "## Example Problem\n",
        "$$p = 1$$\n",
        "$$v = 1$$\n",
        "$$\\rho = 2 + Sin(2πx)$$\n",
        "\n",
        "The exact solution for this is $$\\rho = 2 + Sin(2π(x-t))$$"
      ]
    },
    {
      "cell_type": "code",
      "execution_count": null,
      "metadata": {
        "id": "kx75Pb14mEBV"
      },
      "outputs": [],
      "source": [
        "def sp(grid):\n",
        "\n",
        "    v = FluidVars()\n",
        "    U = grid.scratch_array(nc=v.nvar)\n",
        "\n",
        "    # setup initial conditions --\n",
        "    U[:, v.urho] = 2 + np.sin(2 * np.pi * (grid.x))\n",
        "    U[: , v.umx] = U[:, v.urho] * 1\n",
        "    U[:, v.uener] = 1 /(v.gamma - 1.0) + 0.5 * U[:, v.urho] * 1**2\n",
        "    return U"
      ]
    },
    {
      "cell_type": "code",
      "execution_count": null,
      "metadata": {
        "id": "bK_7n9OJDkoC"
      },
      "outputs": [],
      "source": [
        "tm = 0.5\n",
        "g, U = mol_solve(100, tmax=tm, init_cond=sp,bc = 'per')"
      ]
    },
    {
      "cell_type": "code",
      "execution_count": null,
      "metadata": {
        "colab": {
          "base_uri": "https://localhost:8080/",
          "height": 581
        },
        "id": "PIRjMeJTDr55",
        "outputId": "c7b85341-40db-499c-cfd1-2a4b219891c2"
      },
      "outputs": [
        {
          "data": {
            "text/plain": [
              "[<matplotlib.lines.Line2D at 0x7f433553a920>]"
            ]
          },
          "execution_count": 74,
          "metadata": {},
          "output_type": "execute_result"
        },
        {
          "data": {
            "image/png": "[encoded data removed]",
            "text/plain": [
              "<Figure size 800x600 with 1 Axes>"
            ]
          },
          "metadata": {},
          "output_type": "display_data"
        }
      ],
      "source": [
        "v = FluidVars()\n",
        "plt.scatter(g.x, U[:,v.urho], marker=\"x\", color=\"C0\")\n",
        "plt.xlabel('x')\n",
        "plt.ylabel('Density')\n",
        "plt.title('Density vs Position for the example problem at t=0.5')\n",
        "plt.plot(g.x, 2 + np.sin( 2* np.pi * (g.x - tm)), color='C1')"
      ]
    },
    {
      "cell_type": "code",
      "execution_count": null,
      "metadata": {
        "colab": {
          "base_uri": "https://localhost:8080/"
        },
        "id": "XH2pghHgSJbB",
        "outputId": "24ab32ee-7373-419b-f29c-965fc8d41fed"
      },
      "outputs": [
        {
          "name": "stdout",
          "output_type": "stream",
          "text": [
            "2.0006141768554664\n",
            "2.006598525156197\n",
            "2.0072438955074676\n"
          ]
        }
      ],
      "source": [
        "h, m = 0.01, 100\n",
        "I_values = np.zeros(4)\n",
        "\n",
        "for i in range(4):\n",
        "  g, U = mol_solve(m, tmax=tm, init_cond=sp,bc = 'per')\n",
        "  val = 0\n",
        "  for j in range(100):\n",
        "    ex_ind = (m//100)*j\n",
        "    ex_sol = 2 + np.sin( 2* np.pi * (0.01*j - tm))\n",
        "    val += abs(U[:, v.urho][ex_ind] - ex_sol)\n",
        "  I_values[i] = val/m\n",
        "  m *= 2\n",
        "\n",
        "for i in range(3):\n",
        "  conv = I_values[i]/I_values[i+1]\n",
        "  conv = np.log2(conv)\n",
        "  print(conv)"
      ]
    },
    {
      "cell_type": "markdown",
      "metadata": {
        "id": "EPERjiEDCrqZ"
      },
      "source": [
        "## Sod's Problem"
      ]
    },
    {
      "cell_type": "code",
      "execution_count": null,
      "metadata": {
        "id": "ulLbGOSMNlRs"
      },
      "outputs": [],
      "source": [
        "def sod(grid):\n",
        "\n",
        "    v = FluidVars()\n",
        "    U = grid.scratch_array(nc=v.nvar)\n",
        "\n",
        "    # setup initial conditions -- this is Sod's problem\n",
        "    rho_l = 1.0\n",
        "    u_l = 0.0\n",
        "    p_l = 1.0\n",
        "    rho_r = 0.125\n",
        "    u_r = 0.0\n",
        "    p_r = 0.1\n",
        "\n",
        "    idx_l = grid.x < 0.5\n",
        "    idx_r = grid.x >= 0.5\n",
        "\n",
        "    U[idx_l, v.urho] = rho_l\n",
        "    U[idx_l, v.umx] =  rho_l * u_l\n",
        "    U[idx_l, v.uener] = p_l/(v.gamma - 1.0) + 0.5 * rho_l * u_l**2\n",
        "\n",
        "    U[idx_r, v.urho] = rho_r\n",
        "    U[idx_r, v.umx] =  rho_r * u_r\n",
        "    U[idx_r, v.uener] = p_r/(v.gamma - 1.0) + 0.5 * rho_r * u_r**2\n",
        "\n",
        "    return U"
      ]
    },
    {
      "cell_type": "code",
      "execution_count": null,
      "metadata": {
        "id": "RCrPGJDKCxck"
      },
      "outputs": [],
      "source": [
        "g, U = mol_solve(100, tmax=0.2, init_cond=sod)"
      ]
    },
    {
      "cell_type": "code",
      "execution_count": null,
      "metadata": {
        "id": "8BKs_zC0C1kY"
      },
      "outputs": [],
      "source": [
        "import matplotlib.pyplot as plt\n",
        "plt.rcParams['figure.dpi'] = 100\n",
        "plt.rcParams['figure.figsize'] = [8, 6]"
      ]
    },
    {
      "cell_type": "code",
      "execution_count": null,
      "metadata": {
        "id": "y6vfHgHrC4cW"
      },
      "outputs": [],
      "source": [
        "sod = np.genfromtxt(\"sod-exact.out\", skip_header=2, names=True) # This file contains the exact solution for Sod Problem"
      ]
    },
    {
      "cell_type": "code",
      "execution_count": null,
      "metadata": {
        "id": "JTuDt9sMC6l2"
      },
      "outputs": [],
      "source": [
        "v = FluidVars()\n",
        "plt.scatter(g.x, U[:,v.urho], marker=\"x\", color=\"C0\")\n",
        "plt.xlabel('x')\n",
        "plt.ylabel('Density')\n",
        "plt.title('Density vs Position for Sod Problem at t=0.2')\n",
        "plt.plot(sod[\"x\"], sod[\"rho\"], color=\"C1\")"
      ]
    },
    {
      "cell_type": "code",
      "execution_count": null,
      "metadata": {
        "colab": {
          "background_save": true
        },
        "id": "CJxZYRs0GTAo",
        "outputId": "f067b864-3281-46a6-c771-836cf13b8965"
      },
      "outputs": [
        {
          "data": {
            "text/plain": [
              "1.267583888891805"
            ]
          },
          "execution_count": 81,
          "metadata": {},
          "output_type": "execute_result"
        }
      ],
      "source": [
        "rate_of_convergence(51, 100, 0.2, sod)"
      ]
    },
    {
      "cell_type": "code",
      "execution_count": null,
      "metadata": {
        "colab": {
          "background_save": true
        },
        "id": "Ef6hbUXx7WBy"
      },
      "outputs": [],
      "source": [
        "def convergence_sod(n_values):\n",
        "    \"\"\"\n",
        "    Calculate the convergence order for the Sod's problem using a sequence of\n",
        "    grid resolutions.\n",
        "\n",
        "    Parameters\n",
        "    ----------\n",
        "    n_values : list of int\n",
        "        A list of grid resolutions to use.\n",
        "\n",
        "    # Returns\n",
        "    -------\n",
        "    None\n",
        "    \"\"\"\n",
        "    # Set up initial conditions\n",
        "    x = np.linspace(-0.5, 0.5, n_values[-1]+1)\n",
        "    dx = x[1:] - x[:-1]\n",
        "    rho = np.zeros_like(x)\n",
        "    rho[x<0] = 1.0\n",
        "    rho[x>=0] = 0.125\n",
        "    p = np.zeros_like(x)\n",
        "    p[x<0] = 1.0\n",
        "    p[x>=0] = 0.1\n",
        "    u = np.zeros_like(x)\n",
        "\n",
        "    # Solve the problem for each grid resolution and store the results\n",
        "    rho_history = []\n",
        "    u_history = []\n",
        "    p_history = []\n",
        "    for n in n_values:\n",
        "        x = np.linspace(-0.5, 0.5, n+1)\n",
        "        dx = x[1:] - x[:-1]\n",
        "        rho = np.zeros_like(x)\n",
        "        rho[x<0] = 1.0\n",
        "        rho[x>=0] = 0.125\n",
        "        p = np.zeros_like(x)\n",
        "        p[x<0] = 1.0\n",
        "        p[x>=0] = 0.1\n",
        "        u = np.zeros_like(x)\n",
        "        rho, u, p = advance_sod(rho, u, p, dx, 0.2)\n",
        "        rho_history.append(rho)\n",
        "        u_history.append(u)\n",
        "        p_history.append(p)\n",
        "\n",
        "    # Calculate the error and convergence order for each variable\n",
        "    rho_error = np.abs(rho_history[-1] - rho_exact(x))\n",
        "    u_error = np.abs(u_history[-1] - u_exact(x))\n",
        "    p_error = np.abs(p_history[-1] - p_exact(x))\n",
        "    dx_ratios = dx[:-1]/dx[1:]\n",
        "    rho_ratios = rho_error[:-1]/rho_error[1:]\n",
        "    u_ratios = u_error[:-1]/u_error[1:]\n",
        "    p_ratios = p_error[:-1]/p_error[1:]\n",
        "    rho_order = np.log(rho_ratios)/np.log(dx_ratios)\n",
        "    u_order = np.log(u_ratios)/np.log(dx_ratios)\n",
        "    p_order = np.log(p_ratios)/np.log(dx_ratios)\n",
        "\n",
        "    print('Convergence order for density:', rho_order[-1])\n",
        "    print('Convergence order for velocity:', u_order[-1])\n",
        "    print('Convergence order for pressure:', p_order[-1])\n"
      ]
    },
    {
      "cell_type": "code",
      "execution_count": null,
      "metadata": {
        "colab": {
          "background_save": true
        },
        "id": "GBAo55qd7ZV0"
      },
      "outputs": [],
      "source": [
        "# convergence_sod([100, 200, 400])\n"
      ]
    },
    {
      "cell_type": "markdown",
      "metadata": {
        "id": "J74PBmiP2sjW"
      },
      "source": [
        "## Lax problem\n"
      ]
    },
    {
      "cell_type": "code",
      "execution_count": null,
      "metadata": {
        "colab": {
          "background_save": true
        },
        "id": "lkPTsTu7JD83"
      },
      "outputs": [],
      "source": [
        "def lax(grid):\n",
        "\n",
        "    v = FluidVars()\n",
        "    U = grid.scratch_array(nc=v.nvar)\n",
        "\n",
        "    # setup initial conditions -- this is lax's problem\n",
        "    rho_l = 0.445\n",
        "    u_l = 0.698\n",
        "    p_l = 3.528\n",
        "    rho_r = 0.5\n",
        "    u_r = 0.0\n",
        "    p_r = 0.571\n",
        "\n",
        "    idx_l = grid.x < 0.5\n",
        "    idx_r = grid.x >= 0.5\n",
        "\n",
        "    U[idx_l, v.urho] = rho_l\n",
        "    U[idx_l, v.umx] =  rho_l * u_l\n",
        "    U[idx_l, v.uener] = p_l/(v.gamma - 1.0) + 0.5 * rho_l * u_l**2\n",
        "\n",
        "    U[idx_r, v.urho] = rho_r\n",
        "    U[idx_r, v.umx] =  rho_r * u_r\n",
        "    U[idx_r, v.uener] = p_r/(v.gamma - 1.0) + 0.5 * rho_r * u_r**2\n",
        "\n",
        "    return U"
      ]
    },
    {
      "cell_type": "code",
      "execution_count": null,
      "metadata": {
        "colab": {
          "background_save": true
        },
        "id": "wVhBBSFMF-4x"
      },
      "outputs": [],
      "source": [
        "g, U = mol_solve(100, tmax=0.13, init_cond=lax)"
      ]
    },
    {
      "cell_type": "code",
      "execution_count": null,
      "metadata": {
        "colab": {
          "background_save": true
        },
        "id": "Raytcx49GDTY"
      },
      "outputs": [],
      "source": [
        "import matplotlib.pyplot as plt\n",
        "plt.rcParams['figure.dpi'] = 100\n",
        "plt.rcParams['figure.figsize'] = [8, 6]"
      ]
    },
    {
      "cell_type": "code",
      "execution_count": null,
      "metadata": {
        "colab": {
          "background_save": true
        },
        "id": "VF5h_XWvGLa7"
      },
      "outputs": [],
      "source": [
        "# lax = np.genfromtxt(\"lax-exact.out\", skip_header=2, names=True)"
      ]
    },
    {
      "cell_type": "code",
      "execution_count": null,
      "metadata": {
        "colab": {
          "background_save": true
        },
        "id": "JfhIydk_GeiU",
        "outputId": "0488b50a-1a18-47dc-b951-877a13706d14"
      },
      "outputs": [
        {
          "data": {
            "text/plain": [
              "Text(0.5, 1.0, 'Density vs Position for Lax Problem at t=0.13')"
            ]
          },
          "execution_count": 88,
          "metadata": {},
          "output_type": "execute_result"
        },
        {
          "data": {
            "image/png": "[encoded data removed]",
            "text/plain": [
              "<Figure size 800x600 with 1 Axes>"
            ]
          },
          "metadata": {},
          "output_type": "display_data"
        }
      ],
      "source": [
        "v = FluidVars()\n",
        "plt.scatter(g.x, U[:,v.urho], marker=\"x\", color=\"C0\")\n",
        "plt.xlabel('x')\n",
        "plt.ylabel('Density')\n",
        "plt.title('Density vs Position for Lax Problem at t=0.13')\n",
        "# plt.plot(lax[\"x\"], lax[\"rho\"], color=\"C1\")"
      ]
    },
    {
      "cell_type": "code",
      "execution_count": null,
      "metadata": {
        "colab": {
          "background_save": true
        },
        "id": "QdgDB6srK1Px",
        "outputId": "b7ebdd45-b120-42be-d2ed-43920df1aaf6"
      },
      "outputs": [
        {
          "data": {
            "text/plain": [
              "1.2674653718067437"
            ]
          },
          "execution_count": 89,
          "metadata": {},
          "output_type": "execute_result"
        }
      ],
      "source": [
        "rate_of_convergence(51, 100, 0.2, lax)"
      ]
    },
    {
      "cell_type": "markdown",
      "metadata": {
        "id": "GsZfL_moAp08"
      },
      "source": [
        "## Strong Shock Problem\n",
        " In this test, the center of the domain is evacuated as two rarefaction waves propagate in each direction, outward from the center. It is difficult to get the internal energy to behave at the center of the domain because we are creating a vacuum."
      ]
    },
    {
      "cell_type": "code",
      "execution_count": null,
      "metadata": {
        "colab": {
          "background_save": true
        },
        "id": "qK6YKKMJA5_t"
      },
      "outputs": [],
      "source": [
        "def StrongShock(grid):\n",
        "\n",
        "    v = FluidVars()\n",
        "    U = grid.scratch_array(nc=v.nvar)\n",
        "\n",
        "    # setup initial conditions -- this is StrongShock's problem\n",
        "    rho_l = 1.0\n",
        "    u_l = 0.0\n",
        "    p_l = 1000.0\n",
        "    rho_r = 1.0\n",
        "    u_r = 0.0\n",
        "    p_r = 0.01\n",
        "\n",
        "    idx_l = grid.x < 0.5\n",
        "    idx_r = grid.x >= 0.5\n",
        "\n",
        "    U[idx_l, v.urho] = rho_l\n",
        "    U[idx_l, v.umx] =  rho_l * u_l\n",
        "    U[idx_l, v.uener] = p_l/(v.gamma - 1.0) + 0.5 * rho_l * u_l**2\n",
        "\n",
        "    U[idx_r, v.urho] = rho_r\n",
        "    U[idx_r, v.umx] =  rho_r * u_r\n",
        "    U[idx_r, v.uener] = p_r/(v.gamma - 1.0) + 0.5 * rho_r * u_r**2\n",
        "\n",
        "    return U"
      ]
    },
    {
      "cell_type": "code",
      "execution_count": null,
      "metadata": {
        "colab": {
          "background_save": true
        },
        "id": "V8waTuIeBK3P"
      },
      "outputs": [],
      "source": [
        "g, U = mol_solve(100, tmax=0.012, init_cond=StrongShock)"
      ]
    },
    {
      "cell_type": "code",
      "execution_count": null,
      "metadata": {
        "colab": {
          "background_save": true
        },
        "id": "CXnsLjvjCvYX",
        "outputId": "9e4d6890-6c7d-43b3-86d8-5af898c325b3"
      },
      "outputs": [
        {
          "data": {
            "text/plain": [
              "Text(0.5, 1.0, 'Density vs Position for Strong Shock Problem at t=0.012')"
            ]
          },
          "execution_count": 92,
          "metadata": {},
          "output_type": "execute_result"
        },
        {
          "data": {
            "image/png": "[encoded data removed]",
            "text/plain": [
              "<Figure size 800x600 with 1 Axes>"
            ]
          },
          "metadata": {},
          "output_type": "display_data"
        }
      ],
      "source": [
        "v = FluidVars()\n",
        "plt.scatter(g.x, U[:,v.urho], marker=\"x\", color=\"C0\")\n",
        "plt.xlabel('x')\n",
        "plt.ylabel('Density')\n",
        "plt.title('Density vs Position for Strong Shock Problem at t=0.012')"
      ]
    },
    {
      "cell_type": "code",
      "execution_count": null,
      "metadata": {
        "id": "qkirGDQjK-WH"
      },
      "outputs": [],
      "source": [
        "rate_of_convergence(51, 100, 0.2, StrongShock)"
      ]
    },
    {
      "cell_type": "markdown",
      "metadata": {
        "id": "ymTxpig5fEgV"
      },
      "source": [
        "## Woodward and Colella Problem"
      ]
    },
    {
      "cell_type": "code",
      "execution_count": null,
      "metadata": {
        "id": "sY469RnzfVs8"
      },
      "outputs": [],
      "source": [
        "def WAC(grid):\n",
        "\n",
        "    v = FluidVars()\n",
        "    U = grid.scratch_array(nc=v.nvar)\n",
        "\n",
        "    # setup initial conditions -- this is WAC's problem\n",
        "    rho_l = 1.0\n",
        "    u_l = 0.0\n",
        "    p_l = 0.01\n",
        "    rho_r = 1.0\n",
        "    u_r = 0.0\n",
        "    p_r = 100.0\n",
        "\n",
        "    idx_l = grid.x < 0.5\n",
        "    idx_r = grid.x >= 0.5\n",
        "\n",
        "    U[idx_l, v.urho] = rho_l\n",
        "    U[idx_l, v.umx] =  rho_l * u_l\n",
        "    U[idx_l, v.uener] = p_l/(v.gamma - 1.0) + 0.5 * rho_l * u_l**2\n",
        "\n",
        "    U[idx_r, v.urho] = rho_r\n",
        "    U[idx_r, v.umx] =  rho_r * u_r\n",
        "    U[idx_r, v.uener] = p_r/(v.gamma - 1.0) + 0.5 * rho_r * u_r**2\n",
        "\n",
        "    return U"
      ]
    },
    {
      "cell_type": "code",
      "execution_count": null,
      "metadata": {
        "id": "cIURsECrfzCt"
      },
      "outputs": [],
      "source": [
        "g, U = mol_solve(100, tmax=0.035, init_cond=WAC)"
      ]
    },
    {
      "cell_type": "code",
      "execution_count": null,
      "metadata": {
        "id": "qrHW_jGYf4-1"
      },
      "outputs": [],
      "source": [
        "v = FluidVars()\n",
        "plt.scatter(g.x, U[:,v.urho], marker=\"x\", color=\"C0\")\n",
        "plt.xlabel('x')\n",
        "plt.ylabel('Density')\n",
        "plt.title('Density vs Position for Woodward and Colella Problem at t=0.035')"
      ]
    },
    {
      "cell_type": "code",
      "execution_count": null,
      "metadata": {
        "id": "ihJsN0mVLCJt"
      },
      "outputs": [],
      "source": [
        "rate_of_convergence(51, 100, 0.2, WAC)"
      ]
    }
  ],
  "metadata": {
    "colab": {
      "provenance": []
    },
    "kernelspec": {
      "display_name": "Python 3",
      "name": "python3"
    },
    "language_info": {
      "name": "python"
    }
  },
  "nbformat": 4,
  "nbformat_minor": 0
}